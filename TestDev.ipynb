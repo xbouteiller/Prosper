{
 "cells": [
  {
   "cell_type": "code",
   "execution_count": 1,
   "metadata": {},
   "outputs": [],
   "source": [
    "import numpy as np\n",
    "import pandas as pd\n",
    "import matplotlib.pyplot as plt\n",
    "import os\n",
    "import re\n",
    "\n",
    "from featuring.functions import describedf, StringAnalyzer, WebSiteListAnalyser, MergeDF"
   ]
  },
  {
   "cell_type": "code",
   "execution_count": null,
   "metadata": {},
   "outputs": [],
   "source": []
  },
  {
   "cell_type": "code",
   "execution_count": null,
   "metadata": {},
   "outputs": [],
   "source": [
    "string = \"194.214.100.224:8090\"\n",
    "string_split = re.split(r\"[.:/-_]\", string)\n",
    "all([i.isnumeric() for i in string_split])"
   ]
  },
  {
   "cell_type": "code",
   "execution_count": null,
   "metadata": {},
   "outputs": [],
   "source": [
    "string = \"194.214.100.224:8090\"\n",
    "string_split = re.split(r\"[.:/-]\", string)\n",
    "len(string_split)²"
   ]
  },
  {
   "cell_type": "code",
   "execution_count": null,
   "metadata": {},
   "outputs": [],
   "source": [
    "re.findall('\\.', string)"
   ]
  },
  {
   "cell_type": "code",
   "execution_count": null,
   "metadata": {},
   "outputs": [],
   "source": [
    "string_split"
   ]
  },
  {
   "cell_type": "code",
   "execution_count": 38,
   "metadata": {},
   "outputs": [
    {
     "data": {
      "text/plain": [
       "False"
      ]
     },
     "execution_count": 38,
     "metadata": {},
     "output_type": "execute_result"
    }
   ],
   "source": [
    "regexp = re.compile(r'\\D+\\d+|\\d+\\D+')\n",
    "any([regexp.match(res) for res in ['aa','200','a10','10a']])\n",
    "\n",
    "# [re.findall(r'\\D+\\d+|\\d+\\D+',res) for res in ['aa','200','a10','10a']]"
   ]
  },
  {
   "cell_type": "code",
   "execution_count": 2,
   "metadata": {},
   "outputs": [
    {
     "name": "stdout",
     "output_type": "stream",
     "text": [
      "is ip? False\n",
      "n word is: 5\n",
      "extension is: 224:8090\n",
      "n dot is: 3\n",
      "contains both nums and words: True\n"
     ]
    },
    {
     "data": {
      "text/plain": [
       "[False, 5, '224:8090', 3, True]"
      ]
     },
     "execution_count": 2,
     "metadata": {},
     "output_type": "execute_result"
    }
   ],
   "source": [
    "sa = StringAnalyzer(\"194.214.g1.224:8090\")\n",
    "sa.is_ip()\n",
    "sa.nword()\n",
    "sa.extension()\n",
    "sa.ndot()\n",
    "sa.bothnumsandwords()\n",
    "sa.synthetise()"
   ]
  },
  {
   "cell_type": "code",
   "execution_count": 7,
   "metadata": {},
   "outputs": [
    {
     "name": "stdout",
     "output_type": "stream",
     "text": [
      "list of words is: ['194', '214', 'g1', '224', '8090']\n"
     ]
    },
    {
     "data": {
      "text/plain": [
       "['194', '214', 'g1', '224', '8090']"
      ]
     },
     "execution_count": 7,
     "metadata": {},
     "output_type": "execute_result"
    }
   ],
   "source": [
    "sa.listofwords()"
   ]
  },
  {
   "cell_type": "code",
   "execution_count": 8,
   "metadata": {},
   "outputs": [
    {
     "data": {
      "text/plain": [
       "['194', '214', 'g1', '224', '8090']"
      ]
     },
     "execution_count": 8,
     "metadata": {},
     "output_type": "execute_result"
    }
   ],
   "source": [
    "sa.words"
   ]
  },
  {
   "cell_type": "code",
   "execution_count": null,
   "metadata": {},
   "outputs": [],
   "source": []
  },
  {
   "cell_type": "code",
   "execution_count": 9,
   "metadata": {},
   "outputs": [
    {
     "name": "stdout",
     "output_type": "stream",
     "text": [
      "is ip? False\n",
      "n word is: 6\n",
      "extension is: 224:8090\n",
      "n dot is: 4\n",
      "contains both nums and words: True\n"
     ]
    },
    {
     "data": {
      "text/plain": [
       "[False, 6, '224:8090', 4, True]"
      ]
     },
     "execution_count": 9,
     "metadata": {},
     "output_type": "execute_result"
    }
   ],
   "source": [
    "sa = StringAnalyzer(\"www.194.214.g1.224:8090\")\n",
    "sa.is_ip()\n",
    "sa.nword()\n",
    "sa.extension()\n",
    "sa.ndot()\n",
    "sa.bothnumsandwords()\n",
    "sa.synthetise()"
   ]
  },
  {
   "cell_type": "code",
   "execution_count": 10,
   "metadata": {},
   "outputs": [
    {
     "name": "stdout",
     "output_type": "stream",
     "text": [
      "list of words is: ['www', '194', '214', 'g1', '224', '8090']\n"
     ]
    },
    {
     "data": {
      "text/plain": [
       "['www', '194', '214', 'g1', '224', '8090']"
      ]
     },
     "execution_count": 10,
     "metadata": {},
     "output_type": "execute_result"
    }
   ],
   "source": [
    "sa.listofwords()\n",
    "sa.words"
   ]
  },
  {
   "cell_type": "code",
   "execution_count": 11,
   "metadata": {},
   "outputs": [
    {
     "name": "stdout",
     "output_type": "stream",
     "text": [
      "removing www.\n"
     ]
    },
    {
     "data": {
      "text/plain": [
       "'194.214.g1.224:8090'"
      ]
     },
     "execution_count": 11,
     "metadata": {},
     "output_type": "execute_result"
    }
   ],
   "source": [
    "sa.remove_www()"
   ]
  },
  {
   "cell_type": "code",
   "execution_count": null,
   "metadata": {},
   "outputs": [],
   "source": []
  },
  {
   "cell_type": "code",
   "execution_count": 2,
   "metadata": {},
   "outputs": [
    {
     "name": "stdout",
     "output_type": "stream",
     "text": [
      "shape is nrow:20 and ncol:1 \n",
      "\n",
      "                      url\n",
      "0             10times.com\n",
      "1    194.214.100.224:8090\n",
      "2  1951.polytechnique.org\n",
      "3              1sthcc.com\n",
      "4      1xtechnologies.com \n",
      "\n",
      "type of col:url is:object \n",
      "\n"
     ]
    }
   ],
   "source": [
    "df=pd.read_csv(\"data\\\\urls.csv\")\n",
    "dfshort=df.iloc[0:20,:]\n",
    "describedf(dfshort)"
   ]
  },
  {
   "cell_type": "code",
   "execution_count": 3,
   "metadata": {},
   "outputs": [],
   "source": [
    "wl = WebSiteListAnalyser(weblist=dfshort.url.values)"
   ]
  },
  {
   "cell_type": "code",
   "execution_count": 4,
   "metadata": {},
   "outputs": [
    {
     "name": "stderr",
     "output_type": "stream",
     "text": [
      "C:\\Users\\xavier\\Documents\\Prosper\\usefulfunctions\\functions.py:51: UserWarning: extension is not available for IP\n",
      "  warnings.warn('extension is not available for IP')\n"
     ]
    },
    {
     "data": {
      "text/html": [
       "<div>\n",
       "<style scoped>\n",
       "    .dataframe tbody tr th:only-of-type {\n",
       "        vertical-align: middle;\n",
       "    }\n",
       "\n",
       "    .dataframe tbody tr th {\n",
       "        vertical-align: top;\n",
       "    }\n",
       "\n",
       "    .dataframe thead th {\n",
       "        text-align: right;\n",
       "    }\n",
       "</style>\n",
       "<table border=\"1\" class=\"dataframe\">\n",
       "  <thead>\n",
       "    <tr style=\"text-align: right;\">\n",
       "      <th></th>\n",
       "      <th>is_ip</th>\n",
       "      <th>nword</th>\n",
       "      <th>extension</th>\n",
       "      <th>ndot</th>\n",
       "      <th>bothnumsandwords</th>\n",
       "    </tr>\n",
       "  </thead>\n",
       "  <tbody>\n",
       "    <tr>\n",
       "      <th>0</th>\n",
       "      <td>False</td>\n",
       "      <td>2</td>\n",
       "      <td>com</td>\n",
       "      <td>1</td>\n",
       "      <td>True</td>\n",
       "    </tr>\n",
       "    <tr>\n",
       "      <th>1</th>\n",
       "      <td>True</td>\n",
       "      <td>5</td>\n",
       "      <td>None</td>\n",
       "      <td>3</td>\n",
       "      <td>False</td>\n",
       "    </tr>\n",
       "    <tr>\n",
       "      <th>2</th>\n",
       "      <td>False</td>\n",
       "      <td>3</td>\n",
       "      <td>org</td>\n",
       "      <td>2</td>\n",
       "      <td>False</td>\n",
       "    </tr>\n",
       "    <tr>\n",
       "      <th>3</th>\n",
       "      <td>False</td>\n",
       "      <td>2</td>\n",
       "      <td>com</td>\n",
       "      <td>1</td>\n",
       "      <td>True</td>\n",
       "    </tr>\n",
       "    <tr>\n",
       "      <th>4</th>\n",
       "      <td>False</td>\n",
       "      <td>2</td>\n",
       "      <td>com</td>\n",
       "      <td>1</td>\n",
       "      <td>True</td>\n",
       "    </tr>\n",
       "    <tr>\n",
       "      <th>5</th>\n",
       "      <td>False</td>\n",
       "      <td>2</td>\n",
       "      <td>com</td>\n",
       "      <td>1</td>\n",
       "      <td>True</td>\n",
       "    </tr>\n",
       "    <tr>\n",
       "      <th>6</th>\n",
       "      <td>False</td>\n",
       "      <td>2</td>\n",
       "      <td>net</td>\n",
       "      <td>1</td>\n",
       "      <td>True</td>\n",
       "    </tr>\n",
       "    <tr>\n",
       "      <th>7</th>\n",
       "      <td>False</td>\n",
       "      <td>2</td>\n",
       "      <td>com</td>\n",
       "      <td>1</td>\n",
       "      <td>True</td>\n",
       "    </tr>\n",
       "    <tr>\n",
       "      <th>8</th>\n",
       "      <td>False</td>\n",
       "      <td>2</td>\n",
       "      <td>com</td>\n",
       "      <td>1</td>\n",
       "      <td>True</td>\n",
       "    </tr>\n",
       "    <tr>\n",
       "      <th>9</th>\n",
       "      <td>False</td>\n",
       "      <td>2</td>\n",
       "      <td>com</td>\n",
       "      <td>1</td>\n",
       "      <td>True</td>\n",
       "    </tr>\n",
       "    <tr>\n",
       "      <th>10</th>\n",
       "      <td>False</td>\n",
       "      <td>3</td>\n",
       "      <td>fr</td>\n",
       "      <td>2</td>\n",
       "      <td>True</td>\n",
       "    </tr>\n",
       "    <tr>\n",
       "      <th>11</th>\n",
       "      <td>False</td>\n",
       "      <td>2</td>\n",
       "      <td>org</td>\n",
       "      <td>1</td>\n",
       "      <td>True</td>\n",
       "    </tr>\n",
       "    <tr>\n",
       "      <th>12</th>\n",
       "      <td>False</td>\n",
       "      <td>4</td>\n",
       "      <td>org</td>\n",
       "      <td>2</td>\n",
       "      <td>False</td>\n",
       "    </tr>\n",
       "    <tr>\n",
       "      <th>13</th>\n",
       "      <td>False</td>\n",
       "      <td>4</td>\n",
       "      <td>org</td>\n",
       "      <td>2</td>\n",
       "      <td>False</td>\n",
       "    </tr>\n",
       "    <tr>\n",
       "      <th>14</th>\n",
       "      <td>False</td>\n",
       "      <td>3</td>\n",
       "      <td>com</td>\n",
       "      <td>2</td>\n",
       "      <td>False</td>\n",
       "    </tr>\n",
       "    <tr>\n",
       "      <th>15</th>\n",
       "      <td>False</td>\n",
       "      <td>2</td>\n",
       "      <td>fr</td>\n",
       "      <td>1</td>\n",
       "      <td>True</td>\n",
       "    </tr>\n",
       "    <tr>\n",
       "      <th>16</th>\n",
       "      <td>False</td>\n",
       "      <td>4</td>\n",
       "      <td>fr</td>\n",
       "      <td>3</td>\n",
       "      <td>True</td>\n",
       "    </tr>\n",
       "    <tr>\n",
       "      <th>17</th>\n",
       "      <td>False</td>\n",
       "      <td>3</td>\n",
       "      <td>fr</td>\n",
       "      <td>2</td>\n",
       "      <td>True</td>\n",
       "    </tr>\n",
       "    <tr>\n",
       "      <th>18</th>\n",
       "      <td>False</td>\n",
       "      <td>6</td>\n",
       "      <td>com</td>\n",
       "      <td>3</td>\n",
       "      <td>False</td>\n",
       "    </tr>\n",
       "    <tr>\n",
       "      <th>19</th>\n",
       "      <td>False</td>\n",
       "      <td>3</td>\n",
       "      <td>lu</td>\n",
       "      <td>2</td>\n",
       "      <td>False</td>\n",
       "    </tr>\n",
       "  </tbody>\n",
       "</table>\n",
       "</div>"
      ],
      "text/plain": [
       "    is_ip  nword extension  ndot bothnumsandwords\n",
       "0   False      2       com     1             True\n",
       "1    True      5      None     3            False\n",
       "2   False      3       org     2            False\n",
       "3   False      2       com     1             True\n",
       "4   False      2       com     1             True\n",
       "5   False      2       com     1             True\n",
       "6   False      2       net     1             True\n",
       "7   False      2       com     1             True\n",
       "8   False      2       com     1             True\n",
       "9   False      2       com     1             True\n",
       "10  False      3        fr     2             True\n",
       "11  False      2       org     1             True\n",
       "12  False      4       org     2            False\n",
       "13  False      4       org     2            False\n",
       "14  False      3       com     2            False\n",
       "15  False      2        fr     1             True\n",
       "16  False      4        fr     3             True\n",
       "17  False      3        fr     2             True\n",
       "18  False      6       com     3            False\n",
       "19  False      3        lu     2            False"
      ]
     },
     "execution_count": 4,
     "metadata": {},
     "output_type": "execute_result"
    }
   ],
   "source": [
    "wl.featuring()"
   ]
  },
  {
   "cell_type": "code",
   "execution_count": 5,
   "metadata": {},
   "outputs": [
    {
     "data": {
      "text/html": [
       "<div>\n",
       "<style scoped>\n",
       "    .dataframe tbody tr th:only-of-type {\n",
       "        vertical-align: middle;\n",
       "    }\n",
       "\n",
       "    .dataframe tbody tr th {\n",
       "        vertical-align: top;\n",
       "    }\n",
       "\n",
       "    .dataframe thead th {\n",
       "        text-align: right;\n",
       "    }\n",
       "</style>\n",
       "<table border=\"1\" class=\"dataframe\">\n",
       "  <thead>\n",
       "    <tr style=\"text-align: right;\">\n",
       "      <th></th>\n",
       "      <th>list_of_words</th>\n",
       "    </tr>\n",
       "  </thead>\n",
       "  <tbody>\n",
       "    <tr>\n",
       "      <th>0</th>\n",
       "      <td>[10times, com]</td>\n",
       "    </tr>\n",
       "    <tr>\n",
       "      <th>1</th>\n",
       "      <td>[194, 214, 100, 224, 8090]</td>\n",
       "    </tr>\n",
       "    <tr>\n",
       "      <th>2</th>\n",
       "      <td>[1951, polytechnique, org]</td>\n",
       "    </tr>\n",
       "    <tr>\n",
       "      <th>3</th>\n",
       "      <td>[1sthcc, com]</td>\n",
       "    </tr>\n",
       "    <tr>\n",
       "      <th>4</th>\n",
       "      <td>[1xtechnologies, com]</td>\n",
       "    </tr>\n",
       "    <tr>\n",
       "      <th>5</th>\n",
       "      <td>[2020ndt, com]</td>\n",
       "    </tr>\n",
       "    <tr>\n",
       "      <th>6</th>\n",
       "      <td>[224business, net]</td>\n",
       "    </tr>\n",
       "    <tr>\n",
       "      <th>7</th>\n",
       "      <td>[360learning, com]</td>\n",
       "    </tr>\n",
       "    <tr>\n",
       "      <th>8</th>\n",
       "      <td>[3dmodularsystems, com]</td>\n",
       "    </tr>\n",
       "    <tr>\n",
       "      <th>9</th>\n",
       "      <td>[3dshoes, com]</td>\n",
       "    </tr>\n",
       "    <tr>\n",
       "      <th>10</th>\n",
       "      <td>[3m, loreval, fr]</td>\n",
       "    </tr>\n",
       "    <tr>\n",
       "      <th>11</th>\n",
       "      <td>[3wnews, org]</td>\n",
       "    </tr>\n",
       "    <tr>\n",
       "      <th>12</th>\n",
       "      <td>[52, force, ouvriere, org]</td>\n",
       "    </tr>\n",
       "    <tr>\n",
       "      <th>13</th>\n",
       "      <td>[53, force, ouvriere, org]</td>\n",
       "    </tr>\n",
       "    <tr>\n",
       "      <th>14</th>\n",
       "      <td>[94, citoyens, com]</td>\n",
       "    </tr>\n",
       "    <tr>\n",
       "      <th>15</th>\n",
       "      <td>[99designs, fr]</td>\n",
       "    </tr>\n",
       "    <tr>\n",
       "      <th>16</th>\n",
       "      <td>[a06, apps, paris, fr]</td>\n",
       "    </tr>\n",
       "    <tr>\n",
       "      <th>17</th>\n",
       "      <td>[a190754, free, fr]</td>\n",
       "    </tr>\n",
       "    <tr>\n",
       "      <th>18</th>\n",
       "      <td>[aa, boschap, fr, resource, bosch, com]</td>\n",
       "    </tr>\n",
       "    <tr>\n",
       "      <th>19</th>\n",
       "      <td>[aaa, public, lu]</td>\n",
       "    </tr>\n",
       "  </tbody>\n",
       "</table>\n",
       "</div>"
      ],
      "text/plain": [
       "                              list_of_words\n",
       "0                            [10times, com]\n",
       "1                [194, 214, 100, 224, 8090]\n",
       "2                [1951, polytechnique, org]\n",
       "3                             [1sthcc, com]\n",
       "4                     [1xtechnologies, com]\n",
       "5                            [2020ndt, com]\n",
       "6                        [224business, net]\n",
       "7                        [360learning, com]\n",
       "8                   [3dmodularsystems, com]\n",
       "9                            [3dshoes, com]\n",
       "10                        [3m, loreval, fr]\n",
       "11                            [3wnews, org]\n",
       "12               [52, force, ouvriere, org]\n",
       "13               [53, force, ouvriere, org]\n",
       "14                      [94, citoyens, com]\n",
       "15                          [99designs, fr]\n",
       "16                   [a06, apps, paris, fr]\n",
       "17                      [a190754, free, fr]\n",
       "18  [aa, boschap, fr, resource, bosch, com]\n",
       "19                        [aaa, public, lu]"
      ]
     },
     "execution_count": 5,
     "metadata": {},
     "output_type": "execute_result"
    }
   ],
   "source": [
    "wl.wordslist()"
   ]
  },
  {
   "cell_type": "code",
   "execution_count": 8,
   "metadata": {},
   "outputs": [
    {
     "name": "stdout",
     "output_type": "stream",
     "text": [
      "removing www\n"
     ]
    },
    {
     "data": {
      "text/plain": [
       "['10times.com',\n",
       " '194.214.100.224:8090',\n",
       " '1951.polytechnique.org',\n",
       " '1sthcc.com',\n",
       " '1xtechnologies.com',\n",
       " '2020ndt.com',\n",
       " '224business.net',\n",
       " '360learning.com',\n",
       " '3dmodularsystems.com',\n",
       " '3dshoes.com',\n",
       " '3m.loreval.fr',\n",
       " '3wnews.org',\n",
       " '52.force-ouvriere.org',\n",
       " '53.force-ouvriere.org',\n",
       " '94.citoyens.com',\n",
       " '99designs.fr',\n",
       " 'a06.apps.paris.fr',\n",
       " 'a190754.free.fr',\n",
       " 'aa-boschap-fr.resource.bosch.com',\n",
       " 'aaa.public.lu']"
      ]
     },
     "execution_count": 8,
     "metadata": {},
     "output_type": "execute_result"
    }
   ],
   "source": [
    "wl.remove_all_www()\n",
    "wl.weblist"
   ]
  },
  {
   "cell_type": "code",
   "execution_count": null,
   "metadata": {},
   "outputs": [],
   "source": []
  },
  {
   "cell_type": "code",
   "execution_count": null,
   "metadata": {},
   "outputs": [],
   "source": []
  },
  {
   "cell_type": "code",
   "execution_count": 12,
   "metadata": {},
   "outputs": [
    {
     "name": "stdout",
     "output_type": "stream",
     "text": [
      "shape is nrow:8654 and ncol:4 \n",
      "\n",
      "                      url            label wiki_link  siren_number\n",
      "0             amatrol.com  Not Interesting       NaN           NaN\n",
      "1         antsolutions.eu              New       NaN           NaN\n",
      "2  ardel.reifenhauser.com              New       NaN           NaN\n",
      "3           bio-sonix.com              New       NaN           NaN\n",
      "4       blog.datumbox.com  Not Interesting       NaN           NaN \n",
      "\n",
      "type of col:url is:object \n",
      "\n",
      "type of col:label is:object \n",
      "\n",
      "type of col:wiki_link is:object \n",
      "\n",
      "type of col:siren_number is:float64 \n",
      "\n"
     ]
    }
   ],
   "source": [
    "df=pd.read_csv(\"data\\\\prop_wiki.csv\")\n",
    "describedf(df,4)"
   ]
  },
  {
   "cell_type": "code",
   "execution_count": 13,
   "metadata": {},
   "outputs": [
    {
     "name": "stdout",
     "output_type": "stream",
     "text": [
      "shape is nrow:10 and ncol:4 \n",
      "\n",
      "                              url label  \\\n",
      "1100  www.agilitymultichannel.com   New   \n",
      "1101                   www.aha.io   New   \n",
      "1102           www.airbiquity.com   New   \n",
      "1103             www.alfresco.com   New   \n",
      "1104  www.amadeus-hospitality.com   New   \n",
      "\n",
      "                                         wiki_link  siren_number  \n",
      "1100                                           NaN           NaN  \n",
      "1101  https://en.wikipedia.org/wiki/Aha!_(company)           NaN  \n",
      "1102                                           NaN           NaN  \n",
      "1103                                           NaN           NaN  \n",
      "1104                                           NaN           NaN   \n",
      "\n",
      "type of col:url is:object \n",
      "\n"
     ]
    }
   ],
   "source": [
    "dfshort=df.iloc[1100:1110,:]\n",
    "describedf(dfshort)"
   ]
  },
  {
   "cell_type": "code",
   "execution_count": 14,
   "metadata": {},
   "outputs": [
    {
     "data": {
      "text/html": [
       "<div>\n",
       "<style scoped>\n",
       "    .dataframe tbody tr th:only-of-type {\n",
       "        vertical-align: middle;\n",
       "    }\n",
       "\n",
       "    .dataframe tbody tr th {\n",
       "        vertical-align: top;\n",
       "    }\n",
       "\n",
       "    .dataframe thead th {\n",
       "        text-align: right;\n",
       "    }\n",
       "</style>\n",
       "<table border=\"1\" class=\"dataframe\">\n",
       "  <thead>\n",
       "    <tr style=\"text-align: right;\">\n",
       "      <th></th>\n",
       "      <th>is_ip</th>\n",
       "      <th>nword</th>\n",
       "      <th>extension</th>\n",
       "      <th>ndot</th>\n",
       "      <th>bothnumsandwords</th>\n",
       "    </tr>\n",
       "  </thead>\n",
       "  <tbody>\n",
       "    <tr>\n",
       "      <th>0</th>\n",
       "      <td>False</td>\n",
       "      <td>3</td>\n",
       "      <td>com</td>\n",
       "      <td>2</td>\n",
       "      <td>False</td>\n",
       "    </tr>\n",
       "    <tr>\n",
       "      <th>1</th>\n",
       "      <td>False</td>\n",
       "      <td>3</td>\n",
       "      <td>io</td>\n",
       "      <td>2</td>\n",
       "      <td>False</td>\n",
       "    </tr>\n",
       "    <tr>\n",
       "      <th>2</th>\n",
       "      <td>False</td>\n",
       "      <td>3</td>\n",
       "      <td>com</td>\n",
       "      <td>2</td>\n",
       "      <td>False</td>\n",
       "    </tr>\n",
       "    <tr>\n",
       "      <th>3</th>\n",
       "      <td>False</td>\n",
       "      <td>3</td>\n",
       "      <td>com</td>\n",
       "      <td>2</td>\n",
       "      <td>False</td>\n",
       "    </tr>\n",
       "    <tr>\n",
       "      <th>4</th>\n",
       "      <td>False</td>\n",
       "      <td>4</td>\n",
       "      <td>com</td>\n",
       "      <td>2</td>\n",
       "      <td>False</td>\n",
       "    </tr>\n",
       "    <tr>\n",
       "      <th>5</th>\n",
       "      <td>False</td>\n",
       "      <td>3</td>\n",
       "      <td>com</td>\n",
       "      <td>2</td>\n",
       "      <td>False</td>\n",
       "    </tr>\n",
       "    <tr>\n",
       "      <th>6</th>\n",
       "      <td>False</td>\n",
       "      <td>3</td>\n",
       "      <td>com</td>\n",
       "      <td>2</td>\n",
       "      <td>False</td>\n",
       "    </tr>\n",
       "    <tr>\n",
       "      <th>7</th>\n",
       "      <td>False</td>\n",
       "      <td>3</td>\n",
       "      <td>com</td>\n",
       "      <td>2</td>\n",
       "      <td>False</td>\n",
       "    </tr>\n",
       "    <tr>\n",
       "      <th>8</th>\n",
       "      <td>False</td>\n",
       "      <td>3</td>\n",
       "      <td>com</td>\n",
       "      <td>2</td>\n",
       "      <td>False</td>\n",
       "    </tr>\n",
       "    <tr>\n",
       "      <th>9</th>\n",
       "      <td>False</td>\n",
       "      <td>3</td>\n",
       "      <td>com</td>\n",
       "      <td>2</td>\n",
       "      <td>False</td>\n",
       "    </tr>\n",
       "  </tbody>\n",
       "</table>\n",
       "</div>"
      ],
      "text/plain": [
       "   is_ip  nword extension  ndot bothnumsandwords\n",
       "0  False      3       com     2            False\n",
       "1  False      3        io     2            False\n",
       "2  False      3       com     2            False\n",
       "3  False      3       com     2            False\n",
       "4  False      4       com     2            False\n",
       "5  False      3       com     2            False\n",
       "6  False      3       com     2            False\n",
       "7  False      3       com     2            False\n",
       "8  False      3       com     2            False\n",
       "9  False      3       com     2            False"
      ]
     },
     "execution_count": 14,
     "metadata": {},
     "output_type": "execute_result"
    }
   ],
   "source": [
    "wl = WebSiteListAnalyser(weblist=dfshort.url.values)\n",
    "wl.featuring()"
   ]
  },
  {
   "cell_type": "code",
   "execution_count": 15,
   "metadata": {},
   "outputs": [
    {
     "data": {
      "text/html": [
       "<div>\n",
       "<style scoped>\n",
       "    .dataframe tbody tr th:only-of-type {\n",
       "        vertical-align: middle;\n",
       "    }\n",
       "\n",
       "    .dataframe tbody tr th {\n",
       "        vertical-align: top;\n",
       "    }\n",
       "\n",
       "    .dataframe thead th {\n",
       "        text-align: right;\n",
       "    }\n",
       "</style>\n",
       "<table border=\"1\" class=\"dataframe\">\n",
       "  <thead>\n",
       "    <tr style=\"text-align: right;\">\n",
       "      <th></th>\n",
       "      <th>list_of_words</th>\n",
       "    </tr>\n",
       "  </thead>\n",
       "  <tbody>\n",
       "    <tr>\n",
       "      <th>0</th>\n",
       "      <td>[www, agilitymultichannel, com]</td>\n",
       "    </tr>\n",
       "    <tr>\n",
       "      <th>1</th>\n",
       "      <td>[www, aha, io]</td>\n",
       "    </tr>\n",
       "    <tr>\n",
       "      <th>2</th>\n",
       "      <td>[www, airbiquity, com]</td>\n",
       "    </tr>\n",
       "    <tr>\n",
       "      <th>3</th>\n",
       "      <td>[www, alfresco, com]</td>\n",
       "    </tr>\n",
       "    <tr>\n",
       "      <th>4</th>\n",
       "      <td>[www, amadeus, hospitality, com]</td>\n",
       "    </tr>\n",
       "    <tr>\n",
       "      <th>5</th>\n",
       "      <td>[www, ambest, com]</td>\n",
       "    </tr>\n",
       "    <tr>\n",
       "      <th>6</th>\n",
       "      <td>[www, anjusoftware, com]</td>\n",
       "    </tr>\n",
       "    <tr>\n",
       "      <th>7</th>\n",
       "      <td>[www, arcweb, com]</td>\n",
       "    </tr>\n",
       "    <tr>\n",
       "      <th>8</th>\n",
       "      <td>[www, aspect, com]</td>\n",
       "    </tr>\n",
       "    <tr>\n",
       "      <th>9</th>\n",
       "      <td>[www, asti, com]</td>\n",
       "    </tr>\n",
       "  </tbody>\n",
       "</table>\n",
       "</div>"
      ],
      "text/plain": [
       "                      list_of_words\n",
       "0   [www, agilitymultichannel, com]\n",
       "1                    [www, aha, io]\n",
       "2            [www, airbiquity, com]\n",
       "3              [www, alfresco, com]\n",
       "4  [www, amadeus, hospitality, com]\n",
       "5                [www, ambest, com]\n",
       "6          [www, anjusoftware, com]\n",
       "7                [www, arcweb, com]\n",
       "8                [www, aspect, com]\n",
       "9                  [www, asti, com]"
      ]
     },
     "execution_count": 15,
     "metadata": {},
     "output_type": "execute_result"
    }
   ],
   "source": [
    "wl.wordslist()"
   ]
  },
  {
   "cell_type": "code",
   "execution_count": 20,
   "metadata": {},
   "outputs": [
    {
     "name": "stdout",
     "output_type": "stream",
     "text": [
      "removing www\n"
     ]
    },
    {
     "data": {
      "text/plain": [
       "['agilitymultichannel.com',\n",
       " 'aha.io',\n",
       " 'airbiquity.com',\n",
       " 'alfresco.com',\n",
       " 'amadeus-hospitality.com',\n",
       " 'ambest.com',\n",
       " 'anjusoftware.com',\n",
       " 'arcweb.com',\n",
       " 'aspect.com',\n",
       " 'asti.com']"
      ]
     },
     "execution_count": 20,
     "metadata": {},
     "output_type": "execute_result"
    }
   ],
   "source": [
    "wl.remove_all_www()\n",
    "wl.weblist"
   ]
  },
  {
   "cell_type": "code",
   "execution_count": 21,
   "metadata": {},
   "outputs": [
    {
     "data": {
      "text/html": [
       "<div>\n",
       "<style scoped>\n",
       "    .dataframe tbody tr th:only-of-type {\n",
       "        vertical-align: middle;\n",
       "    }\n",
       "\n",
       "    .dataframe tbody tr th {\n",
       "        vertical-align: top;\n",
       "    }\n",
       "\n",
       "    .dataframe thead th {\n",
       "        text-align: right;\n",
       "    }\n",
       "</style>\n",
       "<table border=\"1\" class=\"dataframe\">\n",
       "  <thead>\n",
       "    <tr style=\"text-align: right;\">\n",
       "      <th></th>\n",
       "      <th>is_ip</th>\n",
       "      <th>nword</th>\n",
       "      <th>extension</th>\n",
       "      <th>ndot</th>\n",
       "      <th>bothnumsandwords</th>\n",
       "    </tr>\n",
       "  </thead>\n",
       "  <tbody>\n",
       "    <tr>\n",
       "      <th>0</th>\n",
       "      <td>False</td>\n",
       "      <td>2</td>\n",
       "      <td>com</td>\n",
       "      <td>1</td>\n",
       "      <td>False</td>\n",
       "    </tr>\n",
       "    <tr>\n",
       "      <th>1</th>\n",
       "      <td>False</td>\n",
       "      <td>2</td>\n",
       "      <td>io</td>\n",
       "      <td>1</td>\n",
       "      <td>False</td>\n",
       "    </tr>\n",
       "    <tr>\n",
       "      <th>2</th>\n",
       "      <td>False</td>\n",
       "      <td>2</td>\n",
       "      <td>com</td>\n",
       "      <td>1</td>\n",
       "      <td>False</td>\n",
       "    </tr>\n",
       "    <tr>\n",
       "      <th>3</th>\n",
       "      <td>False</td>\n",
       "      <td>2</td>\n",
       "      <td>com</td>\n",
       "      <td>1</td>\n",
       "      <td>False</td>\n",
       "    </tr>\n",
       "    <tr>\n",
       "      <th>4</th>\n",
       "      <td>False</td>\n",
       "      <td>3</td>\n",
       "      <td>com</td>\n",
       "      <td>1</td>\n",
       "      <td>False</td>\n",
       "    </tr>\n",
       "    <tr>\n",
       "      <th>5</th>\n",
       "      <td>False</td>\n",
       "      <td>2</td>\n",
       "      <td>com</td>\n",
       "      <td>1</td>\n",
       "      <td>False</td>\n",
       "    </tr>\n",
       "    <tr>\n",
       "      <th>6</th>\n",
       "      <td>False</td>\n",
       "      <td>2</td>\n",
       "      <td>com</td>\n",
       "      <td>1</td>\n",
       "      <td>False</td>\n",
       "    </tr>\n",
       "    <tr>\n",
       "      <th>7</th>\n",
       "      <td>False</td>\n",
       "      <td>2</td>\n",
       "      <td>com</td>\n",
       "      <td>1</td>\n",
       "      <td>False</td>\n",
       "    </tr>\n",
       "    <tr>\n",
       "      <th>8</th>\n",
       "      <td>False</td>\n",
       "      <td>2</td>\n",
       "      <td>com</td>\n",
       "      <td>1</td>\n",
       "      <td>False</td>\n",
       "    </tr>\n",
       "    <tr>\n",
       "      <th>9</th>\n",
       "      <td>False</td>\n",
       "      <td>2</td>\n",
       "      <td>com</td>\n",
       "      <td>1</td>\n",
       "      <td>False</td>\n",
       "    </tr>\n",
       "  </tbody>\n",
       "</table>\n",
       "</div>"
      ],
      "text/plain": [
       "   is_ip  nword extension  ndot bothnumsandwords\n",
       "0  False      2       com     1            False\n",
       "1  False      2        io     1            False\n",
       "2  False      2       com     1            False\n",
       "3  False      2       com     1            False\n",
       "4  False      3       com     1            False\n",
       "5  False      2       com     1            False\n",
       "6  False      2       com     1            False\n",
       "7  False      2       com     1            False\n",
       "8  False      2       com     1            False\n",
       "9  False      2       com     1            False"
      ]
     },
     "execution_count": 21,
     "metadata": {},
     "output_type": "execute_result"
    }
   ],
   "source": [
    "wl.featuring()"
   ]
  },
  {
   "cell_type": "code",
   "execution_count": 22,
   "metadata": {},
   "outputs": [
    {
     "data": {
      "text/html": [
       "<div>\n",
       "<style scoped>\n",
       "    .dataframe tbody tr th:only-of-type {\n",
       "        vertical-align: middle;\n",
       "    }\n",
       "\n",
       "    .dataframe tbody tr th {\n",
       "        vertical-align: top;\n",
       "    }\n",
       "\n",
       "    .dataframe thead th {\n",
       "        text-align: right;\n",
       "    }\n",
       "</style>\n",
       "<table border=\"1\" class=\"dataframe\">\n",
       "  <thead>\n",
       "    <tr style=\"text-align: right;\">\n",
       "      <th></th>\n",
       "      <th>list_of_words</th>\n",
       "    </tr>\n",
       "  </thead>\n",
       "  <tbody>\n",
       "    <tr>\n",
       "      <th>0</th>\n",
       "      <td>[agilitymultichannel, com]</td>\n",
       "    </tr>\n",
       "    <tr>\n",
       "      <th>1</th>\n",
       "      <td>[aha, io]</td>\n",
       "    </tr>\n",
       "    <tr>\n",
       "      <th>2</th>\n",
       "      <td>[airbiquity, com]</td>\n",
       "    </tr>\n",
       "    <tr>\n",
       "      <th>3</th>\n",
       "      <td>[alfresco, com]</td>\n",
       "    </tr>\n",
       "    <tr>\n",
       "      <th>4</th>\n",
       "      <td>[amadeus, hospitality, com]</td>\n",
       "    </tr>\n",
       "    <tr>\n",
       "      <th>5</th>\n",
       "      <td>[ambest, com]</td>\n",
       "    </tr>\n",
       "    <tr>\n",
       "      <th>6</th>\n",
       "      <td>[anjusoftware, com]</td>\n",
       "    </tr>\n",
       "    <tr>\n",
       "      <th>7</th>\n",
       "      <td>[arcweb, com]</td>\n",
       "    </tr>\n",
       "    <tr>\n",
       "      <th>8</th>\n",
       "      <td>[aspect, com]</td>\n",
       "    </tr>\n",
       "    <tr>\n",
       "      <th>9</th>\n",
       "      <td>[asti, com]</td>\n",
       "    </tr>\n",
       "  </tbody>\n",
       "</table>\n",
       "</div>"
      ],
      "text/plain": [
       "                 list_of_words\n",
       "0   [agilitymultichannel, com]\n",
       "1                    [aha, io]\n",
       "2            [airbiquity, com]\n",
       "3              [alfresco, com]\n",
       "4  [amadeus, hospitality, com]\n",
       "5                [ambest, com]\n",
       "6          [anjusoftware, com]\n",
       "7                [arcweb, com]\n",
       "8                [aspect, com]\n",
       "9                  [asti, com]"
      ]
     },
     "execution_count": 22,
     "metadata": {},
     "output_type": "execute_result"
    }
   ],
   "source": [
    "wl.wordslist()"
   ]
  },
  {
   "cell_type": "code",
   "execution_count": null,
   "metadata": {},
   "outputs": [],
   "source": []
  },
  {
   "cell_type": "markdown",
   "metadata": {},
   "source": [
    "# Test avec snippet"
   ]
  },
  {
   "cell_type": "code",
   "execution_count": 1,
   "metadata": {},
   "outputs": [],
   "source": [
    "import numpy as np\n",
    "import pandas as pd\n",
    "import matplotlib.pyplot as plt\n",
    "import os\n",
    "import re\n",
    "\n",
    "from featuring.functions import describedf, StringAnalyzer, WebSiteListAnalyser, MergeDF"
   ]
  },
  {
   "cell_type": "code",
   "execution_count": 2,
   "metadata": {},
   "outputs": [],
   "source": [
    "dfjson=pd.read_json(\"data\\\\bing_results.json\")"
   ]
  },
  {
   "cell_type": "code",
   "execution_count": 3,
   "metadata": {},
   "outputs": [
    {
     "name": "stdout",
     "output_type": "stream",
     "text": [
      "shape is nrow:12975 and ncol:4 \n",
      "\n",
      "      count_occur                               origin_query  \\\n",
      "0               2                extrudeuse machine learning   \n",
      "1               2                extrudeuse machine learning   \n",
      "10              1                extrudeuse machine learning   \n",
      "100             2                extrudeuse machine learning   \n",
      "1000            1  test inspection product testing recording   \n",
      "\n",
      "                                                snippet  \\\n",
      "0     Advanced Manufacturing Agritech Aviation Maint...   \n",
      "1     ANT Smart Factory is a user-friendly system, w...   \n",
      "10    Technical Learning. How to wire an RTD and get...   \n",
      "100   Understanding Swiss-Type Machining. Once seen ...   \n",
      "1000  This test results in an enumeration of the tot...   \n",
      "\n",
      "                         url  \n",
      "0                amatrol.com  \n",
      "1            antsolutions.eu  \n",
      "10              in.omega.com  \n",
      "100        www.mmsonline.com  \n",
      "1000  www.foodtestinglab.com   \n",
      "\n",
      "type of col:count_occur is:int64 \n",
      "\n",
      "type of col:origin_query is:object \n",
      "\n",
      "type of col:snippet is:object \n",
      "\n",
      "type of col:url is:object \n",
      "\n"
     ]
    }
   ],
   "source": [
    "describedf(dfjson,dfjson.shape[1])"
   ]
  },
  {
   "cell_type": "code",
   "execution_count": 4,
   "metadata": {},
   "outputs": [
    {
     "name": "stdout",
     "output_type": "stream",
     "text": [
      "shape is nrow:8654 and ncol:9 \n",
      "\n",
      "                      url            label wiki_link  siren_number  is_ip  \\\n",
      "0             amatrol.com  Not Interesting       NaN           NaN  False   \n",
      "1         antsolutions.eu              New       NaN           NaN  False   \n",
      "2  ardel.reifenhauser.com              New       NaN           NaN  False   \n",
      "3           bio-sonix.com              New       NaN           NaN  False   \n",
      "4       blog.datumbox.com  Not Interesting       NaN           NaN  False   \n",
      "\n",
      "   nword extension  ndot bothnumsandwords  \n",
      "0      2       com     1            False  \n",
      "1      2        eu     1            False  \n",
      "2      3       com     2            False  \n",
      "3      3       com     1            False  \n",
      "4      3       com     2            False   \n",
      "\n",
      "type of col:url is:object \n",
      "\n",
      "type of col:label is:object \n",
      "\n",
      "type of col:wiki_link is:object \n",
      "\n",
      "type of col:siren_number is:float64 \n",
      "\n",
      "type of col:is_ip is:object \n",
      "\n",
      "type of col:nword is:int8 \n",
      "\n",
      "type of col:extension is:object \n",
      "\n",
      "type of col:ndot is:int8 \n",
      "\n",
      "type of col:bothnumsandwords is:object \n",
      "\n"
     ]
    },
    {
     "name": "stderr",
     "output_type": "stream",
     "text": [
      "C:\\Users\\xavier\\Documents\\Prosper\\featuring\\functions.py:51: UserWarning: extension is not available for IP\n",
      "  warnings.warn('extension is not available for IP')\n"
     ]
    }
   ],
   "source": [
    "df=pd.read_csv(\"data\\\\prop_wiki.csv\")\n",
    "wl = WebSiteListAnalyser(weblist=df.url.values)\n",
    "# wl.remove_all_www()\n",
    "df_feat=wl.featuring()\n",
    "df_concat=pd.concat([df, df_feat], axis=1)\n",
    "describedf(df_concat, df_concat.shape[1])"
   ]
  },
  {
   "cell_type": "code",
   "execution_count": 5,
   "metadata": {},
   "outputs": [
    {
     "data": {
      "text/plain": [
       "Index(['count_occur', 'origin_query', 'snippet', 'url'], dtype='object')"
      ]
     },
     "execution_count": 5,
     "metadata": {},
     "output_type": "execute_result"
    }
   ],
   "source": [
    "dfjson.columns\n"
   ]
  },
  {
   "cell_type": "code",
   "execution_count": 6,
   "metadata": {},
   "outputs": [
    {
     "data": {
      "text/plain": [
       "Index(['url', 'label', 'wiki_link', 'siren_number', 'is_ip', 'nword',\n",
       "       'extension', 'ndot', 'bothnumsandwords'],\n",
       "      dtype='object')"
      ]
     },
     "execution_count": 6,
     "metadata": {},
     "output_type": "execute_result"
    }
   ],
   "source": [
    "df_concat.columns"
   ]
  },
  {
   "cell_type": "code",
   "execution_count": 7,
   "metadata": {},
   "outputs": [],
   "source": [
    "df_merged = dfjson.merge(df_concat, left_on='url', right_on='url', suffixes=('_left', '_right'))"
   ]
  },
  {
   "cell_type": "code",
   "execution_count": 8,
   "metadata": {},
   "outputs": [
    {
     "data": {
      "text/plain": [
       "(12975, 12)"
      ]
     },
     "execution_count": 8,
     "metadata": {},
     "output_type": "execute_result"
    }
   ],
   "source": [
    "df_merged.shape"
   ]
  },
  {
   "cell_type": "code",
   "execution_count": 9,
   "metadata": {},
   "outputs": [
    {
     "data": {
      "text/html": [
       "<div>\n",
       "<style scoped>\n",
       "    .dataframe tbody tr th:only-of-type {\n",
       "        vertical-align: middle;\n",
       "    }\n",
       "\n",
       "    .dataframe tbody tr th {\n",
       "        vertical-align: top;\n",
       "    }\n",
       "\n",
       "    .dataframe thead th {\n",
       "        text-align: right;\n",
       "    }\n",
       "</style>\n",
       "<table border=\"1\" class=\"dataframe\">\n",
       "  <thead>\n",
       "    <tr style=\"text-align: right;\">\n",
       "      <th></th>\n",
       "      <th>count_occur</th>\n",
       "      <th>origin_query</th>\n",
       "      <th>snippet</th>\n",
       "      <th>url</th>\n",
       "      <th>label</th>\n",
       "      <th>wiki_link</th>\n",
       "      <th>siren_number</th>\n",
       "      <th>is_ip</th>\n",
       "      <th>nword</th>\n",
       "      <th>extension</th>\n",
       "      <th>ndot</th>\n",
       "      <th>bothnumsandwords</th>\n",
       "    </tr>\n",
       "  </thead>\n",
       "  <tbody>\n",
       "    <tr>\n",
       "      <th>0</th>\n",
       "      <td>2</td>\n",
       "      <td>extrudeuse machine learning</td>\n",
       "      <td>Advanced Manufacturing Agritech Aviation Maint...</td>\n",
       "      <td>amatrol.com</td>\n",
       "      <td>Not Interesting</td>\n",
       "      <td>NaN</td>\n",
       "      <td>NaN</td>\n",
       "      <td>False</td>\n",
       "      <td>2</td>\n",
       "      <td>com</td>\n",
       "      <td>1</td>\n",
       "      <td>False</td>\n",
       "    </tr>\n",
       "    <tr>\n",
       "      <th>1</th>\n",
       "      <td>2</td>\n",
       "      <td>extrudeuse machine learning</td>\n",
       "      <td>ANT Smart Factory is a user-friendly system, w...</td>\n",
       "      <td>antsolutions.eu</td>\n",
       "      <td>New</td>\n",
       "      <td>NaN</td>\n",
       "      <td>NaN</td>\n",
       "      <td>False</td>\n",
       "      <td>2</td>\n",
       "      <td>eu</td>\n",
       "      <td>1</td>\n",
       "      <td>False</td>\n",
       "    </tr>\n",
       "    <tr>\n",
       "      <th>2</th>\n",
       "      <td>1</td>\n",
       "      <td>extrudeuse machine learning</td>\n",
       "      <td>Technical Learning. How to wire an RTD and get...</td>\n",
       "      <td>in.omega.com</td>\n",
       "      <td>New</td>\n",
       "      <td>NaN</td>\n",
       "      <td>NaN</td>\n",
       "      <td>False</td>\n",
       "      <td>3</td>\n",
       "      <td>com</td>\n",
       "      <td>2</td>\n",
       "      <td>False</td>\n",
       "    </tr>\n",
       "    <tr>\n",
       "      <th>3</th>\n",
       "      <td>2</td>\n",
       "      <td>extrudeuse machine learning</td>\n",
       "      <td>Understanding Swiss-Type Machining. Once seen ...</td>\n",
       "      <td>www.mmsonline.com</td>\n",
       "      <td>New</td>\n",
       "      <td>NaN</td>\n",
       "      <td>NaN</td>\n",
       "      <td>False</td>\n",
       "      <td>3</td>\n",
       "      <td>com</td>\n",
       "      <td>2</td>\n",
       "      <td>False</td>\n",
       "    </tr>\n",
       "    <tr>\n",
       "      <th>4</th>\n",
       "      <td>1</td>\n",
       "      <td>production defaut machine learning data</td>\n",
       "      <td>After Machine Monitoring, Is Machining Learnin...</td>\n",
       "      <td>www.mmsonline.com</td>\n",
       "      <td>New</td>\n",
       "      <td>NaN</td>\n",
       "      <td>NaN</td>\n",
       "      <td>False</td>\n",
       "      <td>3</td>\n",
       "      <td>com</td>\n",
       "      <td>2</td>\n",
       "      <td>False</td>\n",
       "    </tr>\n",
       "  </tbody>\n",
       "</table>\n",
       "</div>"
      ],
      "text/plain": [
       "   count_occur                             origin_query  \\\n",
       "0            2              extrudeuse machine learning   \n",
       "1            2              extrudeuse machine learning   \n",
       "2            1              extrudeuse machine learning   \n",
       "3            2              extrudeuse machine learning   \n",
       "4            1  production defaut machine learning data   \n",
       "\n",
       "                                             snippet                url  \\\n",
       "0  Advanced Manufacturing Agritech Aviation Maint...        amatrol.com   \n",
       "1  ANT Smart Factory is a user-friendly system, w...    antsolutions.eu   \n",
       "2  Technical Learning. How to wire an RTD and get...       in.omega.com   \n",
       "3  Understanding Swiss-Type Machining. Once seen ...  www.mmsonline.com   \n",
       "4  After Machine Monitoring, Is Machining Learnin...  www.mmsonline.com   \n",
       "\n",
       "             label wiki_link  siren_number  is_ip  nword extension  ndot  \\\n",
       "0  Not Interesting       NaN           NaN  False      2       com     1   \n",
       "1              New       NaN           NaN  False      2        eu     1   \n",
       "2              New       NaN           NaN  False      3       com     2   \n",
       "3              New       NaN           NaN  False      3       com     2   \n",
       "4              New       NaN           NaN  False      3       com     2   \n",
       "\n",
       "  bothnumsandwords  \n",
       "0            False  \n",
       "1            False  \n",
       "2            False  \n",
       "3            False  \n",
       "4            False  "
      ]
     },
     "execution_count": 9,
     "metadata": {},
     "output_type": "execute_result"
    }
   ],
   "source": [
    "df_merged.head()"
   ]
  },
  {
   "cell_type": "code",
   "execution_count": null,
   "metadata": {},
   "outputs": [],
   "source": []
  },
  {
   "cell_type": "raw",
   "metadata": {},
   "source": []
  },
  {
   "cell_type": "code",
   "execution_count": 10,
   "metadata": {},
   "outputs": [],
   "source": [
    "mdf=MergeDF(df1=dfjson, df2=df)"
   ]
  },
  {
   "cell_type": "code",
   "execution_count": 11,
   "metadata": {},
   "outputs": [
    {
     "name": "stdout",
     "output_type": "stream",
     "text": [
      "------------------------------------\n",
      "\n",
      "shape is nrow:12975 and ncol:4 \n",
      "\n",
      "      count_occur                               origin_query  \\\n",
      "0               2                extrudeuse machine learning   \n",
      "1               2                extrudeuse machine learning   \n",
      "10              1                extrudeuse machine learning   \n",
      "100             2                extrudeuse machine learning   \n",
      "1000            1  test inspection product testing recording   \n",
      "\n",
      "                                                snippet  \\\n",
      "0     Advanced Manufacturing Agritech Aviation Maint...   \n",
      "1     ANT Smart Factory is a user-friendly system, w...   \n",
      "10    Technical Learning. How to wire an RTD and get...   \n",
      "100   Understanding Swiss-Type Machining. Once seen ...   \n",
      "1000  This test results in an enumeration of the tot...   \n",
      "\n",
      "                         url  \n",
      "0                amatrol.com  \n",
      "1            antsolutions.eu  \n",
      "10              in.omega.com  \n",
      "100        www.mmsonline.com  \n",
      "1000  www.foodtestinglab.com   \n",
      "\n",
      "type of col:count_occur is:int64 \n",
      "\n",
      "type of col:origin_query is:object \n",
      "\n",
      "type of col:snippet is:object \n",
      "\n",
      "type of col:url is:object \n",
      "\n",
      "------------------------------------\n",
      "\n",
      "shape is nrow:8654 and ncol:4 \n",
      "\n",
      "                      url            label wiki_link  siren_number\n",
      "0             amatrol.com  Not Interesting       NaN           NaN\n",
      "1         antsolutions.eu              New       NaN           NaN\n",
      "2  ardel.reifenhauser.com              New       NaN           NaN\n",
      "3           bio-sonix.com              New       NaN           NaN\n",
      "4       blog.datumbox.com  Not Interesting       NaN           NaN \n",
      "\n",
      "type of col:url is:object \n",
      "\n",
      "type of col:label is:object \n",
      "\n",
      "type of col:wiki_link is:object \n",
      "\n",
      "type of col:siren_number is:float64 \n",
      "\n",
      "------------------------------------\n",
      "\n",
      "\n"
     ]
    }
   ],
   "source": [
    "print(mdf)"
   ]
  },
  {
   "cell_type": "code",
   "execution_count": 12,
   "metadata": {},
   "outputs": [],
   "source": [
    "mdf.mergedf(rmw_WWW=False)"
   ]
  },
  {
   "cell_type": "code",
   "execution_count": 13,
   "metadata": {},
   "outputs": [
    {
     "data": {
      "text/plain": [
       "(12975, 12)"
      ]
     },
     "execution_count": 13,
     "metadata": {},
     "output_type": "execute_result"
    }
   ],
   "source": [
    "mdf.df_merged.shape"
   ]
  },
  {
   "cell_type": "code",
   "execution_count": 14,
   "metadata": {},
   "outputs": [
    {
     "data": {
      "text/html": [
       "<div>\n",
       "<style scoped>\n",
       "    .dataframe tbody tr th:only-of-type {\n",
       "        vertical-align: middle;\n",
       "    }\n",
       "\n",
       "    .dataframe tbody tr th {\n",
       "        vertical-align: top;\n",
       "    }\n",
       "\n",
       "    .dataframe thead th {\n",
       "        text-align: right;\n",
       "    }\n",
       "</style>\n",
       "<table border=\"1\" class=\"dataframe\">\n",
       "  <thead>\n",
       "    <tr style=\"text-align: right;\">\n",
       "      <th></th>\n",
       "      <th>count_occur</th>\n",
       "      <th>origin_query</th>\n",
       "      <th>snippet</th>\n",
       "      <th>url</th>\n",
       "      <th>label</th>\n",
       "      <th>wiki_link</th>\n",
       "      <th>siren_number</th>\n",
       "      <th>is_ip</th>\n",
       "      <th>nword</th>\n",
       "      <th>extension</th>\n",
       "      <th>ndot</th>\n",
       "      <th>bothnumsandwords</th>\n",
       "    </tr>\n",
       "  </thead>\n",
       "  <tbody>\n",
       "    <tr>\n",
       "      <th>0</th>\n",
       "      <td>2</td>\n",
       "      <td>extrudeuse machine learning</td>\n",
       "      <td>Advanced Manufacturing Agritech Aviation Maint...</td>\n",
       "      <td>amatrol.com</td>\n",
       "      <td>Not Interesting</td>\n",
       "      <td>NaN</td>\n",
       "      <td>NaN</td>\n",
       "      <td>False</td>\n",
       "      <td>2</td>\n",
       "      <td>com</td>\n",
       "      <td>1</td>\n",
       "      <td>False</td>\n",
       "    </tr>\n",
       "    <tr>\n",
       "      <th>1</th>\n",
       "      <td>2</td>\n",
       "      <td>extrudeuse machine learning</td>\n",
       "      <td>ANT Smart Factory is a user-friendly system, w...</td>\n",
       "      <td>antsolutions.eu</td>\n",
       "      <td>New</td>\n",
       "      <td>NaN</td>\n",
       "      <td>NaN</td>\n",
       "      <td>False</td>\n",
       "      <td>2</td>\n",
       "      <td>eu</td>\n",
       "      <td>1</td>\n",
       "      <td>False</td>\n",
       "    </tr>\n",
       "    <tr>\n",
       "      <th>2</th>\n",
       "      <td>1</td>\n",
       "      <td>extrudeuse machine learning</td>\n",
       "      <td>Technical Learning. How to wire an RTD and get...</td>\n",
       "      <td>in.omega.com</td>\n",
       "      <td>New</td>\n",
       "      <td>NaN</td>\n",
       "      <td>NaN</td>\n",
       "      <td>False</td>\n",
       "      <td>3</td>\n",
       "      <td>com</td>\n",
       "      <td>2</td>\n",
       "      <td>False</td>\n",
       "    </tr>\n",
       "    <tr>\n",
       "      <th>3</th>\n",
       "      <td>2</td>\n",
       "      <td>extrudeuse machine learning</td>\n",
       "      <td>Understanding Swiss-Type Machining. Once seen ...</td>\n",
       "      <td>www.mmsonline.com</td>\n",
       "      <td>New</td>\n",
       "      <td>NaN</td>\n",
       "      <td>NaN</td>\n",
       "      <td>False</td>\n",
       "      <td>3</td>\n",
       "      <td>com</td>\n",
       "      <td>2</td>\n",
       "      <td>False</td>\n",
       "    </tr>\n",
       "    <tr>\n",
       "      <th>4</th>\n",
       "      <td>1</td>\n",
       "      <td>production defaut machine learning data</td>\n",
       "      <td>After Machine Monitoring, Is Machining Learnin...</td>\n",
       "      <td>www.mmsonline.com</td>\n",
       "      <td>New</td>\n",
       "      <td>NaN</td>\n",
       "      <td>NaN</td>\n",
       "      <td>False</td>\n",
       "      <td>3</td>\n",
       "      <td>com</td>\n",
       "      <td>2</td>\n",
       "      <td>False</td>\n",
       "    </tr>\n",
       "  </tbody>\n",
       "</table>\n",
       "</div>"
      ],
      "text/plain": [
       "   count_occur                             origin_query  \\\n",
       "0            2              extrudeuse machine learning   \n",
       "1            2              extrudeuse machine learning   \n",
       "2            1              extrudeuse machine learning   \n",
       "3            2              extrudeuse machine learning   \n",
       "4            1  production defaut machine learning data   \n",
       "\n",
       "                                             snippet                url  \\\n",
       "0  Advanced Manufacturing Agritech Aviation Maint...        amatrol.com   \n",
       "1  ANT Smart Factory is a user-friendly system, w...    antsolutions.eu   \n",
       "2  Technical Learning. How to wire an RTD and get...       in.omega.com   \n",
       "3  Understanding Swiss-Type Machining. Once seen ...  www.mmsonline.com   \n",
       "4  After Machine Monitoring, Is Machining Learnin...  www.mmsonline.com   \n",
       "\n",
       "             label wiki_link  siren_number  is_ip  nword extension  ndot  \\\n",
       "0  Not Interesting       NaN           NaN  False      2       com     1   \n",
       "1              New       NaN           NaN  False      2        eu     1   \n",
       "2              New       NaN           NaN  False      3       com     2   \n",
       "3              New       NaN           NaN  False      3       com     2   \n",
       "4              New       NaN           NaN  False      3       com     2   \n",
       "\n",
       "  bothnumsandwords  \n",
       "0            False  \n",
       "1            False  \n",
       "2            False  \n",
       "3            False  \n",
       "4            False  "
      ]
     },
     "execution_count": 14,
     "metadata": {},
     "output_type": "execute_result"
    }
   ],
   "source": [
    "mdf.df_merged.head()"
   ]
  }
 ],
 "metadata": {
  "kernelspec": {
   "display_name": "Python 3",
   "language": "python",
   "name": "python3"
  },
  "language_info": {
   "codemirror_mode": {
    "name": "ipython",
    "version": 3
   },
   "file_extension": ".py",
   "mimetype": "text/x-python",
   "name": "python",
   "nbconvert_exporter": "python",
   "pygments_lexer": "ipython3",
   "version": "3.6.10"
  }
 },
 "nbformat": 4,
 "nbformat_minor": 4
}
