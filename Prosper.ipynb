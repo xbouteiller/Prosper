{
 "cells": [
  {
   "cell_type": "code",
   "execution_count": 67,
   "metadata": {},
   "outputs": [],
   "source": [
    "import numpy as np\n",
    "import pandas as pd\n",
    "import matplotlib.pyplot as plt\n",
    "import os\n",
    "import re\n",
    "\n",
    "from featuring.functions import describedf, StringAnalyzer, WebSiteListAnalyser"
   ]
  },
  {
   "cell_type": "code",
   "execution_count": null,
   "metadata": {},
   "outputs": [],
   "source": []
  },
  {
   "cell_type": "markdown",
   "metadata": {},
   "source": [
    "### Load the data frame"
   ]
  },
  {
   "cell_type": "code",
   "execution_count": 2,
   "metadata": {},
   "outputs": [],
   "source": [
    "df=pd.read_csv(\"data\\\\urls.csv\")"
   ]
  },
  {
   "cell_type": "code",
   "execution_count": 3,
   "metadata": {},
   "outputs": [
    {
     "name": "stdout",
     "output_type": "stream",
     "text": [
      "shape is nrow:8654 and ncol:1 \n",
      "\n",
      "                      url\n",
      "0             10times.com\n",
      "1    194.214.100.224:8090\n",
      "2  1951.polytechnique.org\n",
      "3              1sthcc.com\n",
      "4      1xtechnologies.com \n",
      "\n",
      "type of col:url is:object \n",
      "\n"
     ]
    }
   ],
   "source": [
    "describedf(df,1)"
   ]
  },
  {
   "cell_type": "markdown",
   "metadata": {},
   "source": [
    "### Featuring"
   ]
  },
  {
   "cell_type": "code",
   "execution_count": 4,
   "metadata": {},
   "outputs": [
    {
     "name": "stderr",
     "output_type": "stream",
     "text": [
      "C:\\Users\\xavier\\Documents\\Prosper\\usefulfunctions\\functions.py:32: UserWarning: extension is not available for IP\n",
      "  warnings.warn('extension is not available for IP')\n"
     ]
    }
   ],
   "source": [
    "wl = WebSiteListAnalyser(weblist=df.url.values)\n",
    "df_feat=wl.featuring()\n",
    "df_words=wl.wordslist()"
   ]
  },
  {
   "cell_type": "code",
   "execution_count": 5,
   "metadata": {},
   "outputs": [
    {
     "name": "stdout",
     "output_type": "stream",
     "text": [
      "shape is nrow:8654 and ncol:5 \n",
      "\n",
      "   is_ip  nword extension  ndot bothnumsandwords\n",
      "0  False      2       com     1             True\n",
      "1   True      5      None     3            False\n",
      "2  False      3       org     2            False\n",
      "3  False      2       com     1             True\n",
      "4  False      2       com     1             True \n",
      "\n",
      "type of col:is_ip is:object \n",
      "\n",
      "type of col:nword is:int8 \n",
      "\n",
      "type of col:extension is:object \n",
      "\n",
      "type of col:ndot is:int8 \n",
      "\n",
      "type of col:bothnumsandwords is:object \n",
      "\n",
      "shape is nrow:8654 and ncol:1 \n",
      "\n",
      "                list_of_words\n",
      "0              [10times, com]\n",
      "1  [194, 214, 100, 224, 8090]\n",
      "2  [1951, polytechnique, org]\n",
      "3               [1sthcc, com]\n",
      "4       [1xtechnologies, com] \n",
      "\n",
      "type of col:list_of_words is:object \n",
      "\n"
     ]
    }
   ],
   "source": [
    "describedf(df_feat,5)\n",
    "describedf(df_words,1)"
   ]
  },
  {
   "cell_type": "markdown",
   "metadata": {},
   "source": [
    "### Plotting"
   ]
  },
  {
   "cell_type": "code",
   "execution_count": 46,
   "metadata": {},
   "outputs": [
    {
     "data": {
      "image/png": "[encoded data removed]",
      "text/plain": [
       "<Figure size 432x288 with 1 Axes>"
      ]
     },
     "metadata": {
      "needs_background": "light"
     },
     "output_type": "display_data"
    }
   ],
   "source": [
    "df_feat.nword.value_counts().reset_index().sort_values(['index']).set_index(['index']).plot.bar()\n",
    "plt.show()"
   ]
  },
  {
   "cell_type": "code",
   "execution_count": 48,
   "metadata": {},
   "outputs": [
    {
     "data": {
      "image/png": "[encoded data removed]",
      "text/plain": [
       "<Figure size 432x288 with 1 Axes>"
      ]
     },
     "metadata": {
      "needs_background": "light"
     },
     "output_type": "display_data"
    }
   ],
   "source": [
    "df_feat['ndot'].value_counts().reset_index().sort_values(['index']).set_index(['index']).plot.bar()\n",
    "plt.show()"
   ]
  },
  {
   "cell_type": "code",
   "execution_count": 33,
   "metadata": {},
   "outputs": [
    {
     "data": {
      "image/png": "[encoded data removed]",
      "text/plain": [
       "<Figure size 432x288 with 1 Axes>"
      ]
     },
     "metadata": {
      "needs_background": "light"
     },
     "output_type": "display_data"
    }
   ],
   "source": [
    "plt.scatter(df_feat['nword'].values,df_feat['ndot'].values)\n",
    "plt.show()"
   ]
  },
  {
   "cell_type": "code",
   "execution_count": 12,
   "metadata": {},
   "outputs": [
    {
     "data": {
      "text/plain": [
       "com              4503\n",
       "fr               2155\n",
       "org               572\n",
       "net               225\n",
       "ca                201\n",
       "uk                159\n",
       "be                 92\n",
       "ch                 89\n",
       "eu                 68\n",
       "au                 61\n",
       "info               41\n",
       "io                 33\n",
       "in                 33\n",
       "de                 31\n",
       "za                 19\n",
       "ma                 18\n",
       "co                 16\n",
       "lu                 16\n",
       "nz                 13\n",
       "int                12\n",
       "tn                 12\n",
       "us                 11\n",
       "jp                 11\n",
       "ie                 10\n",
       "cn                  9\n",
       "ai                  9\n",
       "it                  9\n",
       "biz                 8\n",
       "nc                  7\n",
       "me                  6\n",
       "                 ... \n",
       "id                  1\n",
       "pm                  1\n",
       "lv                  1\n",
       "ml                  1\n",
       "gd                  1\n",
       "su                  1\n",
       "gf                  1\n",
       "aero                1\n",
       "sh                  1\n",
       "sandvik             1\n",
       "je                  1\n",
       "uno                 1\n",
       "ro                  1\n",
       "one                 1\n",
       "site                1\n",
       "hr                  1\n",
       "fi                  1\n",
       "cloud               1\n",
       "training            1\n",
       "guide               1\n",
       "international       1\n",
       "ga                  1\n",
       "md                  1\n",
       "pt                  1\n",
       "bio                 1\n",
       "im                  1\n",
       "software            1\n",
       "ar                  1\n",
       "si                  1\n",
       "bw                  1\n",
       "Name: extension, Length: 138, dtype: int64"
      ]
     },
     "execution_count": 12,
     "metadata": {},
     "output_type": "execute_result"
    }
   ],
   "source": [
    "df_feat['extension'].value_counts()"
   ]
  },
  {
   "cell_type": "code",
   "execution_count": 11,
   "metadata": {},
   "outputs": [
    {
     "data": {
      "image/png": "[encoded data removed]",
      "text/plain": [
       "<Figure size 1224x432 with 1 Axes>"
      ]
     },
     "metadata": {
      "needs_background": "light"
     },
     "output_type": "display_data"
    }
   ],
   "source": [
    "plt.figure(figsize=(17, 6))\n",
    "df_feat['extension'].value_counts().plot.bar()\n",
    "plt.show()"
   ]
  },
  {
   "cell_type": "code",
   "execution_count": 7,
   "metadata": {},
   "outputs": [
    {
     "data": {
      "text/plain": [
       "False    8653\n",
       "True        1\n",
       "Name: is_ip, dtype: int64"
      ]
     },
     "execution_count": 7,
     "metadata": {},
     "output_type": "execute_result"
    }
   ],
   "source": [
    "df_feat['is_ip'].value_counts()"
   ]
  },
  {
   "cell_type": "code",
   "execution_count": 8,
   "metadata": {},
   "outputs": [
    {
     "data": {
      "text/plain": [
       "False    8321\n",
       "True      333\n",
       "Name: bothnumsandwords, dtype: int64"
      ]
     },
     "execution_count": 8,
     "metadata": {},
     "output_type": "execute_result"
    }
   ],
   "source": [
    "df_feat['bothnumsandwords'].value_counts()"
   ]
  },
  {
   "cell_type": "markdown",
   "metadata": {},
   "source": [
    "# Wiki List\n",
    "___"
   ]
  },
  {
   "cell_type": "code",
   "execution_count": 33,
   "metadata": {},
   "outputs": [],
   "source": [
    "import numpy as np\n",
    "import pandas as pd\n",
    "import matplotlib.pyplot as plt\n",
    "import os\n",
    "import re\n",
    "\n",
    "from featuring.functions import describedf, StringAnalyzer, WebSiteListAnalyser"
   ]
  },
  {
   "cell_type": "code",
   "execution_count": 34,
   "metadata": {},
   "outputs": [
    {
     "name": "stdout",
     "output_type": "stream",
     "text": [
      "shape is nrow:8654 and ncol:4 \n",
      "\n",
      "                      url            label wiki_link  siren_number\n",
      "0             amatrol.com  Not Interesting       NaN           NaN\n",
      "1         antsolutions.eu              New       NaN           NaN\n",
      "2  ardel.reifenhauser.com              New       NaN           NaN\n",
      "3           bio-sonix.com              New       NaN           NaN\n",
      "4       blog.datumbox.com  Not Interesting       NaN           NaN \n",
      "\n",
      "type of col:url is:object \n",
      "\n",
      "type of col:label is:object \n",
      "\n",
      "type of col:wiki_link is:object \n",
      "\n",
      "type of col:siren_number is:float64 \n",
      "\n"
     ]
    }
   ],
   "source": [
    "df=pd.read_csv(\"data\\\\prop_wiki.csv\")\n",
    "describedf(df,4)"
   ]
  },
  {
   "cell_type": "markdown",
   "metadata": {},
   "source": [
    "# Compute features on wiki list csv"
   ]
  },
  {
   "cell_type": "code",
   "execution_count": 35,
   "metadata": {},
   "outputs": [
    {
     "name": "stdout",
     "output_type": "stream",
     "text": [
      "removing www.\n"
     ]
    }
   ],
   "source": [
    "wl = WebSiteListAnalyser(weblist=df.url.values)\n",
    "wl.remove_all_www()\n",
    "df_feat=wl.featuring()"
   ]
  },
  {
   "cell_type": "code",
   "execution_count": 61,
   "metadata": {},
   "outputs": [],
   "source": [
    "# concat features df withraw df\n",
    "df_concat=pd.concat([df, df_feat], axis=1)"
   ]
  },
  {
   "cell_type": "code",
   "execution_count": 63,
   "metadata": {},
   "outputs": [
    {
     "data": {
      "text/plain": [
       "New                8625\n",
       "Not Interesting      23\n",
       "Interesting           6\n",
       "Name: label, dtype: int64"
      ]
     },
     "execution_count": 63,
     "metadata": {},
     "output_type": "execute_result"
    }
   ],
   "source": [
    "df_concat['label'].value_counts()"
   ]
  },
  {
   "cell_type": "code",
   "execution_count": 62,
   "metadata": {},
   "outputs": [],
   "source": [
    "df_concat.loc[df_concat.wiki_link.isnull(),'wiki']=0\n",
    "df_concat.loc[~df_concat.wiki_link.isnull(),'wiki']=1"
   ]
  },
  {
   "cell_type": "code",
   "execution_count": 38,
   "metadata": {},
   "outputs": [
    {
     "name": "stdout",
     "output_type": "stream",
     "text": [
      "shape is nrow:8654 and ncol:10 \n",
      "\n",
      "                      url            label wiki_link  siren_number  is_ip  \\\n",
      "0             amatrol.com  Not Interesting       NaN           NaN  False   \n",
      "1         antsolutions.eu              New       NaN           NaN  False   \n",
      "2  ardel.reifenhauser.com              New       NaN           NaN  False   \n",
      "3           bio-sonix.com              New       NaN           NaN  False   \n",
      "4       blog.datumbox.com  Not Interesting       NaN           NaN  False   \n",
      "\n",
      "   nword extension  ndot bothnumsandwords  wiki  \n",
      "0      2       com     1            False   0.0  \n",
      "1      2        eu     1            False   0.0  \n",
      "2      3       com     2            False   0.0  \n",
      "3      3       com     1            False   0.0  \n",
      "4      3       com     2            False   0.0   \n",
      "\n",
      "type of col:url is:object \n",
      "\n",
      "type of col:label is:object \n",
      "\n",
      "type of col:wiki_link is:object \n",
      "\n",
      "type of col:siren_number is:float64 \n",
      "\n",
      "type of col:is_ip is:object \n",
      "\n",
      "type of col:nword is:int8 \n",
      "\n",
      "type of col:extension is:object \n",
      "\n",
      "type of col:ndot is:int8 \n",
      "\n",
      "type of col:bothnumsandwords is:object \n",
      "\n",
      "type of col:wiki is:float64 \n",
      "\n"
     ]
    }
   ],
   "source": [
    "describedf(df_concat, df_concat.shape[1])"
   ]
  },
  {
   "cell_type": "markdown",
   "metadata": {},
   "source": [
    "##  Difference in dot number between wiki & no wiki"
   ]
  },
  {
   "cell_type": "code",
   "execution_count": 50,
   "metadata": {},
   "outputs": [
    {
     "data": {
      "text/html": [
       "<div>\n",
       "<style scoped>\n",
       "    .dataframe tbody tr th:only-of-type {\n",
       "        vertical-align: middle;\n",
       "    }\n",
       "\n",
       "    .dataframe tbody tr th {\n",
       "        vertical-align: top;\n",
       "    }\n",
       "\n",
       "    .dataframe thead th {\n",
       "        text-align: right;\n",
       "    }\n",
       "</style>\n",
       "<table border=\"1\" class=\"dataframe\">\n",
       "  <thead>\n",
       "    <tr style=\"text-align: right;\">\n",
       "      <th>ndot</th>\n",
       "      <th>1</th>\n",
       "      <th>2</th>\n",
       "      <th>3</th>\n",
       "      <th>4</th>\n",
       "    </tr>\n",
       "    <tr>\n",
       "      <th>wiki</th>\n",
       "      <th></th>\n",
       "      <th></th>\n",
       "      <th></th>\n",
       "      <th></th>\n",
       "    </tr>\n",
       "  </thead>\n",
       "  <tbody>\n",
       "    <tr>\n",
       "      <th>0.0</th>\n",
       "      <td>5953</td>\n",
       "      <td>1950</td>\n",
       "      <td>282</td>\n",
       "      <td>23</td>\n",
       "    </tr>\n",
       "    <tr>\n",
       "      <th>1.0</th>\n",
       "      <td>417</td>\n",
       "      <td>28</td>\n",
       "      <td>1</td>\n",
       "      <td>0</td>\n",
       "    </tr>\n",
       "  </tbody>\n",
       "</table>\n",
       "</div>"
      ],
      "text/plain": [
       "ndot     1     2    3   4\n",
       "wiki                     \n",
       "0.0   5953  1950  282  23\n",
       "1.0    417    28    1   0"
      ]
     },
     "execution_count": 50,
     "metadata": {},
     "output_type": "execute_result"
    }
   ],
   "source": [
    "pd.crosstab(df_concat.wiki,df_concat.ndot, normalize=False)"
   ]
  },
  {
   "cell_type": "code",
   "execution_count": 49,
   "metadata": {},
   "outputs": [
    {
     "data": {
      "text/html": [
       "<div>\n",
       "<style scoped>\n",
       "    .dataframe tbody tr th:only-of-type {\n",
       "        vertical-align: middle;\n",
       "    }\n",
       "\n",
       "    .dataframe tbody tr th {\n",
       "        vertical-align: top;\n",
       "    }\n",
       "\n",
       "    .dataframe thead th {\n",
       "        text-align: right;\n",
       "    }\n",
       "</style>\n",
       "<table border=\"1\" class=\"dataframe\">\n",
       "  <thead>\n",
       "    <tr style=\"text-align: right;\">\n",
       "      <th>ndot</th>\n",
       "      <th>1</th>\n",
       "      <th>2</th>\n",
       "      <th>3</th>\n",
       "      <th>4</th>\n",
       "    </tr>\n",
       "    <tr>\n",
       "      <th>wiki</th>\n",
       "      <th></th>\n",
       "      <th></th>\n",
       "      <th></th>\n",
       "      <th></th>\n",
       "    </tr>\n",
       "  </thead>\n",
       "  <tbody>\n",
       "    <tr>\n",
       "      <th>0.0</th>\n",
       "      <td>0.725268</td>\n",
       "      <td>0.237573</td>\n",
       "      <td>0.034357</td>\n",
       "      <td>0.002802</td>\n",
       "    </tr>\n",
       "    <tr>\n",
       "      <th>1.0</th>\n",
       "      <td>0.934978</td>\n",
       "      <td>0.062780</td>\n",
       "      <td>0.002242</td>\n",
       "      <td>0.000000</td>\n",
       "    </tr>\n",
       "  </tbody>\n",
       "</table>\n",
       "</div>"
      ],
      "text/plain": [
       "ndot         1         2         3         4\n",
       "wiki                                        \n",
       "0.0   0.725268  0.237573  0.034357  0.002802\n",
       "1.0   0.934978  0.062780  0.002242  0.000000"
      ]
     },
     "execution_count": 49,
     "metadata": {},
     "output_type": "execute_result"
    }
   ],
   "source": [
    "pd.crosstab(df_concat.wiki,df_concat.ndot, normalize='index')"
   ]
  },
  {
   "cell_type": "code",
   "execution_count": 60,
   "metadata": {},
   "outputs": [
    {
     "data": {
      "image/png": "[encoded data removed]",
      "text/plain": [
       "<Figure size 432x288 with 1 Axes>"
      ]
     },
     "metadata": {
      "needs_background": "light"
     },
     "output_type": "display_data"
    }
   ],
   "source": [
    "pd.crosstab(df_concat.wiki,df_concat.ndot, normalize='index').plot.bar()\n",
    "plt.show()"
   ]
  },
  {
   "cell_type": "markdown",
   "metadata": {},
   "source": [
    "##  Difference in word number between wiki & no wiki"
   ]
  },
  {
   "cell_type": "code",
   "execution_count": 51,
   "metadata": {},
   "outputs": [
    {
     "data": {
      "text/html": [
       "<div>\n",
       "<style scoped>\n",
       "    .dataframe tbody tr th:only-of-type {\n",
       "        vertical-align: middle;\n",
       "    }\n",
       "\n",
       "    .dataframe tbody tr th {\n",
       "        vertical-align: top;\n",
       "    }\n",
       "\n",
       "    .dataframe thead th {\n",
       "        text-align: right;\n",
       "    }\n",
       "</style>\n",
       "<table border=\"1\" class=\"dataframe\">\n",
       "  <thead>\n",
       "    <tr style=\"text-align: right;\">\n",
       "      <th>nword</th>\n",
       "      <th>2</th>\n",
       "      <th>3</th>\n",
       "      <th>4</th>\n",
       "      <th>5</th>\n",
       "      <th>6</th>\n",
       "      <th>7</th>\n",
       "      <th>8</th>\n",
       "      <th>9</th>\n",
       "    </tr>\n",
       "    <tr>\n",
       "      <th>wiki</th>\n",
       "      <th></th>\n",
       "      <th></th>\n",
       "      <th></th>\n",
       "      <th></th>\n",
       "      <th></th>\n",
       "      <th></th>\n",
       "      <th></th>\n",
       "      <th></th>\n",
       "    </tr>\n",
       "  </thead>\n",
       "  <tbody>\n",
       "    <tr>\n",
       "      <th>0.0</th>\n",
       "      <td>4798</td>\n",
       "      <td>2582</td>\n",
       "      <td>628</td>\n",
       "      <td>155</td>\n",
       "      <td>32</td>\n",
       "      <td>7</td>\n",
       "      <td>5</td>\n",
       "      <td>1</td>\n",
       "    </tr>\n",
       "    <tr>\n",
       "      <th>1.0</th>\n",
       "      <td>382</td>\n",
       "      <td>59</td>\n",
       "      <td>5</td>\n",
       "      <td>0</td>\n",
       "      <td>0</td>\n",
       "      <td>0</td>\n",
       "      <td>0</td>\n",
       "      <td>0</td>\n",
       "    </tr>\n",
       "  </tbody>\n",
       "</table>\n",
       "</div>"
      ],
      "text/plain": [
       "nword     2     3    4    5   6  7  8  9\n",
       "wiki                                    \n",
       "0.0    4798  2582  628  155  32  7  5  1\n",
       "1.0     382    59    5    0   0  0  0  0"
      ]
     },
     "execution_count": 51,
     "metadata": {},
     "output_type": "execute_result"
    }
   ],
   "source": [
    "pd.crosstab(df_concat.wiki,df_concat.nword, normalize=False)"
   ]
  },
  {
   "cell_type": "code",
   "execution_count": 52,
   "metadata": {},
   "outputs": [
    {
     "data": {
      "text/html": [
       "<div>\n",
       "<style scoped>\n",
       "    .dataframe tbody tr th:only-of-type {\n",
       "        vertical-align: middle;\n",
       "    }\n",
       "\n",
       "    .dataframe tbody tr th {\n",
       "        vertical-align: top;\n",
       "    }\n",
       "\n",
       "    .dataframe thead th {\n",
       "        text-align: right;\n",
       "    }\n",
       "</style>\n",
       "<table border=\"1\" class=\"dataframe\">\n",
       "  <thead>\n",
       "    <tr style=\"text-align: right;\">\n",
       "      <th>nword</th>\n",
       "      <th>2</th>\n",
       "      <th>3</th>\n",
       "      <th>4</th>\n",
       "      <th>5</th>\n",
       "      <th>6</th>\n",
       "      <th>7</th>\n",
       "      <th>8</th>\n",
       "      <th>9</th>\n",
       "    </tr>\n",
       "    <tr>\n",
       "      <th>wiki</th>\n",
       "      <th></th>\n",
       "      <th></th>\n",
       "      <th></th>\n",
       "      <th></th>\n",
       "      <th></th>\n",
       "      <th></th>\n",
       "      <th></th>\n",
       "      <th></th>\n",
       "    </tr>\n",
       "  </thead>\n",
       "  <tbody>\n",
       "    <tr>\n",
       "      <th>0.0</th>\n",
       "      <td>0.584552</td>\n",
       "      <td>0.314571</td>\n",
       "      <td>0.076511</td>\n",
       "      <td>0.018884</td>\n",
       "      <td>0.003899</td>\n",
       "      <td>0.000853</td>\n",
       "      <td>0.000609</td>\n",
       "      <td>0.000122</td>\n",
       "    </tr>\n",
       "    <tr>\n",
       "      <th>1.0</th>\n",
       "      <td>0.856502</td>\n",
       "      <td>0.132287</td>\n",
       "      <td>0.011211</td>\n",
       "      <td>0.000000</td>\n",
       "      <td>0.000000</td>\n",
       "      <td>0.000000</td>\n",
       "      <td>0.000000</td>\n",
       "      <td>0.000000</td>\n",
       "    </tr>\n",
       "  </tbody>\n",
       "</table>\n",
       "</div>"
      ],
      "text/plain": [
       "nword         2         3         4         5         6         7         8  \\\n",
       "wiki                                                                          \n",
       "0.0    0.584552  0.314571  0.076511  0.018884  0.003899  0.000853  0.000609   \n",
       "1.0    0.856502  0.132287  0.011211  0.000000  0.000000  0.000000  0.000000   \n",
       "\n",
       "nword         9  \n",
       "wiki             \n",
       "0.0    0.000122  \n",
       "1.0    0.000000  "
      ]
     },
     "execution_count": 52,
     "metadata": {},
     "output_type": "execute_result"
    }
   ],
   "source": [
    "pd.crosstab(df_concat.wiki,df_concat.nword, normalize='index')"
   ]
  },
  {
   "cell_type": "code",
   "execution_count": 59,
   "metadata": {},
   "outputs": [
    {
     "data": {
      "image/png": "[encoded data removed]",
      "text/plain": [
       "<Figure size 432x288 with 1 Axes>"
      ]
     },
     "metadata": {
      "needs_background": "light"
     },
     "output_type": "display_data"
    }
   ],
   "source": [
    "pd.crosstab(df_concat.wiki,df_concat.nword, normalize='index').plot.bar()\n",
    "plt.show()"
   ]
  },
  {
   "cell_type": "markdown",
   "metadata": {},
   "source": [
    "##  Difference in number of word with both char and num between wiki & no wiki"
   ]
  },
  {
   "cell_type": "code",
   "execution_count": 54,
   "metadata": {},
   "outputs": [
    {
     "data": {
      "text/html": [
       "<div>\n",
       "<style scoped>\n",
       "    .dataframe tbody tr th:only-of-type {\n",
       "        vertical-align: middle;\n",
       "    }\n",
       "\n",
       "    .dataframe tbody tr th {\n",
       "        vertical-align: top;\n",
       "    }\n",
       "\n",
       "    .dataframe thead th {\n",
       "        text-align: right;\n",
       "    }\n",
       "</style>\n",
       "<table border=\"1\" class=\"dataframe\">\n",
       "  <thead>\n",
       "    <tr style=\"text-align: right;\">\n",
       "      <th>bothnumsandwords</th>\n",
       "      <th>False</th>\n",
       "      <th>True</th>\n",
       "    </tr>\n",
       "    <tr>\n",
       "      <th>wiki</th>\n",
       "      <th></th>\n",
       "      <th></th>\n",
       "    </tr>\n",
       "  </thead>\n",
       "  <tbody>\n",
       "    <tr>\n",
       "      <th>0.0</th>\n",
       "      <td>7880</td>\n",
       "      <td>328</td>\n",
       "    </tr>\n",
       "    <tr>\n",
       "      <th>1.0</th>\n",
       "      <td>441</td>\n",
       "      <td>5</td>\n",
       "    </tr>\n",
       "  </tbody>\n",
       "</table>\n",
       "</div>"
      ],
      "text/plain": [
       "bothnumsandwords  False  True \n",
       "wiki                          \n",
       "0.0                7880    328\n",
       "1.0                 441      5"
      ]
     },
     "execution_count": 54,
     "metadata": {},
     "output_type": "execute_result"
    }
   ],
   "source": [
    "pd.crosstab(df_concat.wiki,df_concat.bothnumsandwords, normalize=False)"
   ]
  },
  {
   "cell_type": "code",
   "execution_count": 56,
   "metadata": {},
   "outputs": [
    {
     "data": {
      "text/html": [
       "<div>\n",
       "<style scoped>\n",
       "    .dataframe tbody tr th:only-of-type {\n",
       "        vertical-align: middle;\n",
       "    }\n",
       "\n",
       "    .dataframe tbody tr th {\n",
       "        vertical-align: top;\n",
       "    }\n",
       "\n",
       "    .dataframe thead th {\n",
       "        text-align: right;\n",
       "    }\n",
       "</style>\n",
       "<table border=\"1\" class=\"dataframe\">\n",
       "  <thead>\n",
       "    <tr style=\"text-align: right;\">\n",
       "      <th>bothnumsandwords</th>\n",
       "      <th>False</th>\n",
       "      <th>True</th>\n",
       "    </tr>\n",
       "    <tr>\n",
       "      <th>wiki</th>\n",
       "      <th></th>\n",
       "      <th></th>\n",
       "    </tr>\n",
       "  </thead>\n",
       "  <tbody>\n",
       "    <tr>\n",
       "      <th>0.0</th>\n",
       "      <td>0.960039</td>\n",
       "      <td>0.039961</td>\n",
       "    </tr>\n",
       "    <tr>\n",
       "      <th>1.0</th>\n",
       "      <td>0.988789</td>\n",
       "      <td>0.011211</td>\n",
       "    </tr>\n",
       "  </tbody>\n",
       "</table>\n",
       "</div>"
      ],
      "text/plain": [
       "bothnumsandwords     False     True \n",
       "wiki                                \n",
       "0.0               0.960039  0.039961\n",
       "1.0               0.988789  0.011211"
      ]
     },
     "execution_count": 56,
     "metadata": {},
     "output_type": "execute_result"
    }
   ],
   "source": [
    "pd.crosstab(df_concat.wiki,df_concat.bothnumsandwords, normalize='index')"
   ]
  },
  {
   "cell_type": "code",
   "execution_count": 58,
   "metadata": {},
   "outputs": [
    {
     "data": {
      "image/png": "[encoded data removed]",
      "text/plain": [
       "<Figure size 432x288 with 1 Axes>"
      ]
     },
     "metadata": {
      "needs_background": "light"
     },
     "output_type": "display_data"
    }
   ],
   "source": [
    "pd.crosstab(df_concat.wiki,df_concat.bothnumsandwords, normalize='index').plot.bar()\n",
    "plt.show()"
   ]
  },
  {
   "cell_type": "markdown",
   "metadata": {},
   "source": [
    "## Extension, ndot, wiki"
   ]
  },
  {
   "cell_type": "code",
   "execution_count": 66,
   "metadata": {},
   "outputs": [
    {
     "data": {
      "text/plain": [
       "wiki  extension \n",
       "0.0   abbott           2\n",
       "      ac               2\n",
       "      ae               8\n",
       "      aero             2\n",
       "      africa           4\n",
       "      ai              16\n",
       "      ar               2\n",
       "      asia             4\n",
       "      at               4\n",
       "      au             120\n",
       "      bd               4\n",
       "      be             184\n",
       "      bio              2\n",
       "      biz             14\n",
       "      blog             4\n",
       "      bnpparibas       2\n",
       "      br               8\n",
       "      brussels         2\n",
       "      bw               2\n",
       "      ca             396\n",
       "      cc              12\n",
       "      cd               4\n",
       "      cern             2\n",
       "      ch             176\n",
       "      ci              12\n",
       "      cloud            2\n",
       "      cm               4\n",
       "      cn              18\n",
       "      co              30\n",
       "      com           8308\n",
       "                    ... \n",
       "      tr               2\n",
       "      training         2\n",
       "      tv               8\n",
       "      tw              12\n",
       "      ua               2\n",
       "      uk             314\n",
       "      uno              2\n",
       "      us              22\n",
       "      vc               2\n",
       "      wiki             2\n",
       "      world            2\n",
       "      za              38\n",
       "1.0   ai               2\n",
       "      au               2\n",
       "      biz              2\n",
       "      bnpparibas       2\n",
       "      ca               6\n",
       "      ch               2\n",
       "      co               2\n",
       "      com            698\n",
       "      de               2\n",
       "      eu               4\n",
       "      fr             144\n",
       "      google           2\n",
       "      info             2\n",
       "      io               4\n",
       "      kpmg             2\n",
       "      net              6\n",
       "      org              6\n",
       "      uk               4\n",
       "Length: 155, dtype: int64"
      ]
     },
     "execution_count": 66,
     "metadata": {},
     "output_type": "execute_result"
    }
   ],
   "source": [
    "df_concat[['wiki','extension']].groupby(['wiki','extension']).agg(np.size)"
   ]
  },
  {
   "cell_type": "code",
   "execution_count": null,
   "metadata": {},
   "outputs": [],
   "source": []
  },
  {
   "cell_type": "code",
   "execution_count": null,
   "metadata": {},
   "outputs": [],
   "source": []
  },
  {
   "cell_type": "code",
   "execution_count": null,
   "metadata": {},
   "outputs": [],
   "source": []
  }
 ],
 "metadata": {
  "kernelspec": {
   "display_name": "Python 3",
   "language": "python",
   "name": "python3"
  },
  "language_info": {
   "codemirror_mode": {
    "name": "ipython",
    "version": 3
   },
   "file_extension": ".py",
   "mimetype": "text/x-python",
   "name": "python",
   "nbconvert_exporter": "python",
   "pygments_lexer": "ipython3",
   "version": "3.6.10"
  }
 },
 "nbformat": 4,
 "nbformat_minor": 4
}
