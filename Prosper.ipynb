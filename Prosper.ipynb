{
 "cells": [
  {
   "cell_type": "code",
   "execution_count": 10,
   "metadata": {},
   "outputs": [],
   "source": [
    "import numpy as np\n",
    "import pandas as pd\n",
    "import matplotlib.pyplot as plt\n",
    "import os\n",
    "import re\n",
    "\n",
    "from usefulfunctions.functions import describedf, StringAnalyzer, WebSiteListAnalyser"
   ]
  },
  {
   "cell_type": "code",
   "execution_count": null,
   "metadata": {},
   "outputs": [],
   "source": []
  },
  {
   "cell_type": "markdown",
   "metadata": {},
   "source": [
    "### Load the data frame"
   ]
  },
  {
   "cell_type": "code",
   "execution_count": 2,
   "metadata": {},
   "outputs": [],
   "source": [
    "df=pd.read_csv(\"data\\\\urls.csv\")"
   ]
  },
  {
   "cell_type": "code",
   "execution_count": 3,
   "metadata": {},
   "outputs": [
    {
     "name": "stdout",
     "output_type": "stream",
     "text": [
      "shape is nrow:8654 and ncol:1 \n",
      "\n",
      "                      url\n",
      "0             10times.com\n",
      "1    194.214.100.224:8090\n",
      "2  1951.polytechnique.org\n",
      "3              1sthcc.com\n",
      "4      1xtechnologies.com \n",
      "\n",
      "type of col:url is:object \n",
      "\n"
     ]
    }
   ],
   "source": [
    "describedf(df,1)"
   ]
  },
  {
   "cell_type": "markdown",
   "metadata": {},
   "source": [
    "### Featuring"
   ]
  },
  {
   "cell_type": "code",
   "execution_count": 6,
   "metadata": {},
   "outputs": [],
   "source": [
    "wl = WebSiteListAnalyser(weblist=df.url.values)\n",
    "df_feat=wl.featuring()\n",
    "df_words=wl.wordslist()"
   ]
  },
  {
   "cell_type": "code",
   "execution_count": 8,
   "metadata": {},
   "outputs": [
    {
     "name": "stdout",
     "output_type": "stream",
     "text": [
      "shape is nrow:8654 and ncol:5 \n",
      "\n",
      "   is_ip  nword extension  ndot bothnumsandwords\n",
      "0  False      2       com     1             True\n",
      "1   True      5      None     3            False\n",
      "2  False      3       org     2            False\n",
      "3  False      2       com     1             True\n",
      "4  False      2       com     1             True \n",
      "\n",
      "type of col:is_ip is:object \n",
      "\n",
      "type of col:nword is:int8 \n",
      "\n",
      "type of col:extension is:object \n",
      "\n",
      "type of col:ndot is:int8 \n",
      "\n",
      "type of col:bothnumsandwords is:object \n",
      "\n",
      "shape is nrow:8654 and ncol:1 \n",
      "\n",
      "                list_of_words\n",
      "0              [10times, com]\n",
      "1  [194, 214, 100, 224, 8090]\n",
      "2  [1951, polytechnique, org]\n",
      "3               [1sthcc, com]\n",
      "4       [1xtechnologies, com] \n",
      "\n",
      "type of col:list_of_words is:object \n",
      "\n"
     ]
    }
   ],
   "source": [
    "describedf(df_feat,5)\n",
    "describedf(df_words,1)"
   ]
  },
  {
   "cell_type": "markdown",
   "metadata": {},
   "source": [
    "### Plotting"
   ]
  },
  {
   "cell_type": "code",
   "execution_count": 46,
   "metadata": {},
   "outputs": [
    {
     "data": {
      "image/png": "[encoded data removed]",
      "text/plain": [
       "<Figure size 432x288 with 1 Axes>"
      ]
     },
     "metadata": {
      "needs_background": "light"
     },
     "output_type": "display_data"
    }
   ],
   "source": [
    "df_feat.nword.value_counts().reset_index().sort_values(['index']).set_index(['index']).plot.bar()\n",
    "plt.show()"
   ]
  },
  {
   "cell_type": "code",
   "execution_count": 48,
   "metadata": {},
   "outputs": [
    {
     "data": {
      "image/png": "[encoded data removed]",
      "text/plain": [
       "<Figure size 432x288 with 1 Axes>"
      ]
     },
     "metadata": {
      "needs_background": "light"
     },
     "output_type": "display_data"
    }
   ],
   "source": [
    "df_feat['ndot'].value_counts().reset_index().sort_values(['index']).set_index(['index']).plot.bar()\n",
    "plt.show()"
   ]
  },
  {
   "cell_type": "code",
   "execution_count": 33,
   "metadata": {},
   "outputs": [
    {
     "data": {
      "image/png": "[encoded data removed]",
      "text/plain": [
       "<Figure size 432x288 with 1 Axes>"
      ]
     },
     "metadata": {
      "needs_background": "light"
     },
     "output_type": "display_data"
    }
   ],
   "source": [
    "plt.scatter(df_feat['nword'].values,df_feat['ndot'].values)\n",
    "plt.show()"
   ]
  }
 ],
 "metadata": {
  "kernelspec": {
   "display_name": "Python 3",
   "language": "python",
   "name": "python3"
  },
  "language_info": {
   "codemirror_mode": {
    "name": "ipython",
    "version": 3
   },
   "file_extension": ".py",
   "mimetype": "text/x-python",
   "name": "python",
   "nbconvert_exporter": "python",
   "pygments_lexer": "ipython3",
   "version": "3.6.10"
  }
 },
 "nbformat": 4,
 "nbformat_minor": 4
}
