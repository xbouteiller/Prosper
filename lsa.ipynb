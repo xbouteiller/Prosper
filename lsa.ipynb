{
 "cells": [
  {
   "cell_type": "code",
   "execution_count": 1,
   "metadata": {},
   "outputs": [],
   "source": [
    "import numpy as np\n",
    "import pandas as pd\n",
    "import matplotlib.pyplot as plt\n",
    "import os\n",
    "import re\n",
    "import spacy\n",
    "\n",
    "os.chdir('C:\\\\Users\\\\xavier\\\\Documents\\\\Prosper')\n",
    "from featuring.functions import describedf, StringAnalyzer, WebSiteListAnalyser, MergeDFAndComputeFeature"
   ]
  },
  {
   "cell_type": "code",
   "execution_count": 2,
   "metadata": {},
   "outputs": [],
   "source": [
    "# import sys\n",
    "# !{sys.executable} -m pip install -U gensim\n",
    "import gensim"
   ]
  },
  {
   "cell_type": "code",
   "execution_count": 3,
   "metadata": {},
   "outputs": [
    {
     "name": "stdout",
     "output_type": "stream",
     "text": [
      "removing www.\n",
      "raw french stopwords list loaded\n",
      "raw english stopwords list loaded\n",
      "\n",
      "--- waiting 1 seconds ---\n",
      "language is en\n",
      "language is en\n",
      "language is en\n",
      "language is en\n",
      "language is en\n",
      "language is en\n",
      "language is en\n",
      "language is en\n",
      "language is en\n",
      "language is en\n",
      "language is en\n",
      "language is en\n",
      "language is fr\n",
      "language is fr\n",
      "language is en\n",
      "language is en\n",
      "language is en\n",
      "language is en\n",
      "language is en\n",
      "language is en\n",
      "language is en\n",
      "language is en\n",
      "language is en\n",
      "language is en\n",
      "language is en\n",
      "language is en\n"
     ]
    }
   ],
   "source": [
    "#%load df\n",
    "dfjson=pd.read_json(\"data\\\\bing_results.json\")\n",
    "df=pd.read_csv(\"data\\\\prop_wiki.csv\")\n",
    "\n",
    "# REDUCE DIM OF DF FOR TESTING\n",
    "#------------------------------------------------\n",
    "dfjson=dfjson.iloc[0:500,:]\n",
    "df=df.iloc[0:500,:]\n",
    "#------------------------------------------------\n",
    "\n",
    "#%merge and compute features\n",
    "mdf2=MergeDFAndComputeFeature(df1=dfjson, df2=df)\n",
    "\n",
    "# load df1 & df2 within class\n",
    "mdf2.instantiate_df()\n",
    "\n",
    "# remove www. before computing features\n",
    "mdf2.clean_adress()\n",
    "\n",
    "# merge df & compute feature\n",
    "mdf2.mergedf()\n",
    "\n",
    "# preprocess for NLP\n",
    "mdf2.nlp_preprocess(stop_fr=None, stop_en=None)"
   ]
  },
  {
   "cell_type": "code",
   "execution_count": 4,
   "metadata": {},
   "outputs": [
    {
     "name": "stdout",
     "output_type": "stream",
     "text": [
      "------------------------------------\n",
      "\n",
      "shape is nrow:500 and ncol:4 \n",
      "\n",
      "      count_occur                               origin_query  \\\n",
      "0               2                extrudeuse machine learning   \n",
      "1               2                extrudeuse machine learning   \n",
      "10              1                extrudeuse machine learning   \n",
      "100             2                extrudeuse machine learning   \n",
      "1000            1  test inspection product testing recording   \n",
      "\n",
      "                                                snippet  \\\n",
      "0     Advanced Manufacturing Agritech Aviation Maint...   \n",
      "1     ANT Smart Factory is a user-friendly system, w...   \n",
      "10    Technical Learning. How to wire an RTD and get...   \n",
      "100   Understanding Swiss-Type Machining. Once seen ...   \n",
      "1000  This test results in an enumeration of the tot...   \n",
      "\n",
      "                         url  \n",
      "0                amatrol.com  \n",
      "1            antsolutions.eu  \n",
      "10              in.omega.com  \n",
      "100        www.mmsonline.com  \n",
      "1000  www.foodtestinglab.com   \n",
      "\n",
      "type of col:count_occur is:int64 \n",
      "\n",
      "type of col:origin_query is:object \n",
      "\n",
      "type of col:snippet is:object \n",
      "\n",
      "type of col:url is:object \n",
      "\n",
      "------------------------------------\n",
      "\n",
      "shape is nrow:500 and ncol:4 \n",
      "\n",
      "                      url            label wiki_link  siren_number\n",
      "0             amatrol.com  Not Interesting       NaN           NaN\n",
      "1         antsolutions.eu              New       NaN           NaN\n",
      "2  ardel.reifenhauser.com              New       NaN           NaN\n",
      "3           bio-sonix.com              New       NaN           NaN\n",
      "4       blog.datumbox.com  Not Interesting       NaN           NaN \n",
      "\n",
      "type of col:url is:object \n",
      "\n",
      "type of col:label is:object \n",
      "\n",
      "type of col:wiki_link is:object \n",
      "\n",
      "type of col:siren_number is:float64 \n",
      "\n",
      "------------------------------------\n",
      "\n",
      "\n"
     ]
    }
   ],
   "source": [
    "print(mdf2)"
   ]
  },
  {
   "cell_type": "code",
   "execution_count": 5,
   "metadata": {},
   "outputs": [
    {
     "name": "stdout",
     "output_type": "stream",
     "text": [
      "chosen language is French\n",
      "\n",
      " [(0, '0.469*\"canada\" + 0.313*\"canadien\" + 0.313*\"gouvernement\" + 0.313*\"assurer\" + 0.177*\"service\" + 0.177*\"faire\" + 0.156*\"besoin\" + 0.156*\"communiqué\" + 0.156*\"aéronef\" + 0.156*\"priorité\" + 0.156*\"lancer\" + 0.156*\"principal\" + 0.156*\"concurrentiel\" + 0.156*\"acquisition\" + 0.156*\"forcer\" + 0.156*\"remplacer\" + 0.156*\"processus\" + 0.156*\"public\" + 0.156*\"presse\" + 0.156*\"chasseur\"'), (1, '-0.399*\"vérification\" + -0.399*\"équipement\" + -0.199*\"bâtiment\" + -0.199*\"constituer\" + -0.199*\"installation\" + -0.199*\"inspection\" + -0.199*\"mission\" + -0.199*\"devoir\" + -0.199*\"objet\" + -0.199*\"norme\" + -0.199*\"produit\" + -0.199*\"standard\" + -0.199*\"réglementaire\" + -0.199*\"exigence\" + -0.199*\"contrôler\" + -0.199*\"propre\" + -0.199*\"baser\" + -0.173*\"service\" + -0.173*\"faire\" + 0.078*\"canada\"')]\n"
     ]
    },
    {
     "data": {
      "text/plain": [
       "<gensim.models.lsimodel.LsiModel at 0x1ec1bdd0898>"
      ]
     },
     "execution_count": 5,
     "metadata": {},
     "output_type": "execute_result"
    }
   ],
   "source": [
    "#%%\n",
    "mdf2.create_gensim_lsa_model(number_of_topics=3, words=20,lang='fr')\n",
    "#%%"
   ]
  },
  {
   "cell_type": "code",
   "execution_count": 7,
   "metadata": {},
   "outputs": [
    {
     "data": {
      "text/plain": [
       "3"
      ]
     },
     "execution_count": 7,
     "metadata": {},
     "output_type": "execute_result"
    }
   ],
   "source": [
    "mdf2.number_of_topics"
   ]
  },
  {
   "cell_type": "code",
   "execution_count": 8,
   "metadata": {},
   "outputs": [
    {
     "ename": "IndexError",
     "evalue": "list index out of range",
     "output_type": "error",
     "traceback": [
      "\u001b[1;31m---------------------------------------------------------------------------\u001b[0m",
      "\u001b[1;31mIndexError\u001b[0m                                Traceback (most recent call last)",
      "\u001b[1;32m<ipython-input-8-322847f46112>\u001b[0m in \u001b[0;36m<module>\u001b[1;34m\u001b[0m\n\u001b[1;32m----> 1\u001b[1;33m \u001b[0mmdf2\u001b[0m\u001b[1;33m.\u001b[0m\u001b[0mextract_words_by_topic\u001b[0m\u001b[1;33m(\u001b[0m\u001b[0mnum_words\u001b[0m\u001b[1;33m=\u001b[0m\u001b[1;36m20\u001b[0m\u001b[1;33m)\u001b[0m\u001b[1;33m\u001b[0m\u001b[1;33m\u001b[0m\u001b[0m\n\u001b[0m",
      "\u001b[1;32m~\\Documents\\Prosper\\featuring\\functions.py\u001b[0m in \u001b[0;36mextract_words_by_topic\u001b[1;34m(self, num_words)\u001b[0m\n\u001b[0;32m    481\u001b[0m         \u001b[1;32mfor\u001b[0m \u001b[0mi\u001b[0m\u001b[1;33m,\u001b[0m\u001b[0mj\u001b[0m \u001b[1;32min\u001b[0m \u001b[0mself\u001b[0m\u001b[1;33m.\u001b[0m\u001b[0mlsamodel\u001b[0m\u001b[1;33m.\u001b[0m\u001b[0mshow_topics\u001b[0m\u001b[1;33m(\u001b[0m\u001b[0mnum_topics\u001b[0m\u001b[1;33m=\u001b[0m\u001b[0mself\u001b[0m\u001b[1;33m.\u001b[0m\u001b[0mnumber_of_topics\u001b[0m\u001b[1;33m,\u001b[0m \u001b[0mnum_words\u001b[0m\u001b[1;33m=\u001b[0m\u001b[1;36m10\u001b[0m\u001b[1;33m,\u001b[0m \u001b[0mformatted\u001b[0m\u001b[1;33m=\u001b[0m\u001b[1;32mFalse\u001b[0m\u001b[1;33m)\u001b[0m\u001b[1;33m:\u001b[0m\u001b[1;33m\u001b[0m\u001b[1;33m\u001b[0m\u001b[0m\n\u001b[0;32m    482\u001b[0m             \u001b[1;32mfor\u001b[0m \u001b[0mk\u001b[0m \u001b[1;32min\u001b[0m \u001b[0mrange\u001b[0m\u001b[1;33m(\u001b[0m\u001b[1;36m0\u001b[0m\u001b[1;33m,\u001b[0m\u001b[0mnum_words\u001b[0m\u001b[1;33m)\u001b[0m\u001b[1;33m:\u001b[0m\u001b[1;33m\u001b[0m\u001b[1;33m\u001b[0m\u001b[0m\n\u001b[1;32m--> 483\u001b[1;33m                 \u001b[0mwords_array\u001b[0m\u001b[1;33m.\u001b[0m\u001b[0mappend\u001b[0m\u001b[1;33m(\u001b[0m\u001b[0mj\u001b[0m\u001b[1;33m[\u001b[0m\u001b[0mk\u001b[0m\u001b[1;33m]\u001b[0m\u001b[1;33m[\u001b[0m\u001b[1;36m0\u001b[0m\u001b[1;33m]\u001b[0m\u001b[1;33m)\u001b[0m\u001b[1;33m\u001b[0m\u001b[1;33m\u001b[0m\u001b[0m\n\u001b[0m\u001b[0;32m    484\u001b[0m \u001b[1;33m\u001b[0m\u001b[0m\n\u001b[0;32m    485\u001b[0m         \u001b[0mwords_array\u001b[0m\u001b[1;33m=\u001b[0m\u001b[0mnp\u001b[0m\u001b[1;33m.\u001b[0m\u001b[0marray\u001b[0m\u001b[1;33m(\u001b[0m\u001b[0mwords_array\u001b[0m\u001b[1;33m)\u001b[0m\u001b[1;33m.\u001b[0m\u001b[0mreshape\u001b[0m\u001b[1;33m(\u001b[0m\u001b[0mself\u001b[0m\u001b[1;33m.\u001b[0m\u001b[0mnumber_of_topics\u001b[0m\u001b[1;33m,\u001b[0m\u001b[1;33m-\u001b[0m\u001b[1;36m1\u001b[0m\u001b[1;33m)\u001b[0m\u001b[1;33m\u001b[0m\u001b[1;33m\u001b[0m\u001b[0m\n",
      "\u001b[1;31mIndexError\u001b[0m: list index out of range"
     ]
    }
   ],
   "source": [
    "mdf2.extract_words_by_topic(num_words=20)"
   ]
  },
  {
   "cell_type": "code",
   "execution_count": null,
   "metadata": {},
   "outputs": [],
   "source": [
    "# mdf2.plot_graph(start=2,stop=10,step=1)"
   ]
  }
 ],
 "metadata": {
  "kernelspec": {
   "display_name": "Python 3",
   "language": "python",
   "name": "python3"
  },
  "language_info": {
   "codemirror_mode": {
    "name": "ipython",
    "version": 3
   },
   "file_extension": ".py",
   "mimetype": "text/x-python",
   "name": "python",
   "nbconvert_exporter": "python",
   "pygments_lexer": "ipython3",
   "version": "3.6.10"
  }
 },
 "nbformat": 4,
 "nbformat_minor": 4
}
